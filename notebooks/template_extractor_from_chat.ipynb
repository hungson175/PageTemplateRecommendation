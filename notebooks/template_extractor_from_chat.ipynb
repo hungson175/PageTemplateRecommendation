{
 "cells": [
  {
   "cell_type": "code",
   "id": "initial_id",
   "metadata": {
    "collapsed": true,
    "ExecuteTime": {
     "end_time": "2024-08-07T09:24:00.403638Z",
     "start_time": "2024-08-07T09:23:59.978762Z"
    }
   },
   "source": [
    "# Another way to use memory \n",
    "import dotenv\n",
    "\n",
    "dotenv.load_dotenv()\n",
    "from langchain_openai import ChatOpenAI\n",
    "from langchain_core.prompts import (\n",
    "    ChatPromptTemplate,\n",
    "    SystemMessagePromptTemplate,\n",
    "    HumanMessagePromptTemplate,\n",
    "    MessagesPlaceholder)\n",
    "from langchain.chains import LLMChain\n",
    "from langchain.memory import ConversationBufferMemory\n",
    "\n",
    "llm = ChatOpenAI(model=\"gpt-4o-mini\")  # Chat model , not completion"
   ],
   "outputs": [],
   "execution_count": 1
  },
  {
   "metadata": {
    "ExecuteTime": {
     "end_time": "2024-08-07T09:24:01.353980Z",
     "start_time": "2024-08-07T09:24:01.351869Z"
    }
   },
   "cell_type": "code",
   "source": [
    "system_message = \"\"\"\n",
    "As an online customer service representative at ShopifyCreator, your role is to assist customers in selecting the right template from our templates store. During interactions, you should gather the following details:\n",
    "\n",
    "- Page Type: Identify the needed page types, which could include 'About Us', 'Landing', 'Contact', 'Home', 'Product', 'Collection', 'Blog Post', 'Password', and 'Advertorial' pages.\n",
    "- Style: Determine the desired template style(s), such as 'Cheerful', 'Elegant', 'Energetic', 'Luxury', 'Minimalist', 'Professional', or 'Spooky'.\n",
    "- Industry: Clarify the industry category applicable to the template. Options include 'Art & Crafts', 'Books, Music & Videos', 'Clothing', 'Electronics', 'Food & Drink', 'Hardware & Automotive', 'Health & Beauty', 'Home & Decor', 'Jewelry & Accessories', 'Pet Supplies', 'Service', 'Sports & Recreation', 'Baby & Kids', 'Outdoors & Gardening', or 'Other'.\n",
    "- Additional Information: Extract any other relevant information from the conversation that might aid in selecting the appropriate template.\n",
    "The first one or 2 questions should not too formal, it should be something like \"What do you have in mind ?\" or \"What are you looking for ?\" - and then you can ask more specific questions to get more details\n",
    "\"\"\""
   ],
   "id": "38b33b96343235b",
   "outputs": [],
   "execution_count": 2
  },
  {
   "metadata": {
    "ExecuteTime": {
     "end_time": "2024-08-07T09:24:03.102063Z",
     "start_time": "2024-08-07T09:24:03.040362Z"
    }
   },
   "cell_type": "code",
   "source": [
    "prompt = ChatPromptTemplate(\n",
    "    messages=[\n",
    "        SystemMessagePromptTemplate.from_template(\n",
    "            system_message\n",
    "        ),\n",
    "        # The `variable_name` here is what must align with memory\n",
    "        MessagesPlaceholder(variable_name=\"chat_history\"),\n",
    "        HumanMessagePromptTemplate.from_template(\"{question}\")\n",
    "    ]\n",
    ")\n",
    "memory = ConversationBufferMemory(memory_key=\"chat_history\", return_messages=True)\n",
    "# conversation = prompt | llm | memory\n",
    "conversation = LLMChain(\n",
    "    llm=llm,\n",
    "    prompt=prompt,\n",
    "    verbose=True,\n",
    "    memory=memory,\n",
    ")\n",
    "memory.clear()"
   ],
   "id": "679b7223a13e4da6",
   "outputs": [
    {
     "name": "stderr",
     "output_type": "stream",
     "text": [
      "/Users/sonph36/dev/PageTemplateRecommendation/venv/lib/python3.12/site-packages/langchain_core/_api/deprecation.py:139: LangChainDeprecationWarning: The class `LLMChain` was deprecated in LangChain 0.1.17 and will be removed in 1.0. Use RunnableSequence, e.g., `prompt | llm` instead.\n",
      "  warn_deprecated(\n"
     ]
    }
   ],
   "execution_count": 3
  },
  {
   "metadata": {
    "ExecuteTime": {
     "end_time": "2024-08-07T09:24:07.299439Z",
     "start_time": "2024-08-07T09:24:06.035200Z"
    }
   },
   "cell_type": "code",
   "source": "conversation({\"question\": \"Hi\"})",
   "id": "8de0eeedd9d3bc17",
   "outputs": [
    {
     "name": "stderr",
     "output_type": "stream",
     "text": [
      "/Users/sonph36/dev/PageTemplateRecommendation/venv/lib/python3.12/site-packages/langchain_core/_api/deprecation.py:139: LangChainDeprecationWarning: The method `Chain.__call__` was deprecated in langchain 0.1.0 and will be removed in 0.3.0. Use invoke instead.\n",
      "  warn_deprecated(\n"
     ]
    },
    {
     "name": "stdout",
     "output_type": "stream",
     "text": [
      "\n",
      "\n",
      "\u001B[1m> Entering new LLMChain chain...\u001B[0m\n",
      "Prompt after formatting:\n",
      "\u001B[32;1m\u001B[1;3mSystem: \n",
      "As an online customer service representative at ShopifyCreator, your role is to assist customers in selecting the right template from our templates store. During interactions, you should gather the following details:\n",
      "\n",
      "- Page Type: Identify the needed page types, which could include 'About Us', 'Landing', 'Contact', 'Home', 'Product', 'Collection', 'Blog Post', 'Password', and 'Advertorial' pages.\n",
      "- Style: Determine the desired template style(s), such as 'Cheerful', 'Elegant', 'Energetic', 'Luxury', 'Minimalist', 'Professional', or 'Spooky'.\n",
      "- Industry: Clarify the industry category applicable to the template. Options include 'Art & Crafts', 'Books, Music & Videos', 'Clothing', 'Electronics', 'Food & Drink', 'Hardware & Automotive', 'Health & Beauty', 'Home & Decor', 'Jewelry & Accessories', 'Pet Supplies', 'Service', 'Sports & Recreation', 'Baby & Kids', 'Outdoors & Gardening', or 'Other'.\n",
      "- Additional Information: Extract any other relevant information from the conversation that might aid in selecting the appropriate template.\n",
      "The first one or 2 questions should not too formal, it should be something like \"What do you have in mind ?\" or \"What are you looking for ?\" - and then you can ask more specific questions to get more details\n",
      "\n",
      "Human: Hi\u001B[0m\n",
      "\n",
      "\u001B[1m> Finished chain.\u001B[0m\n"
     ]
    },
    {
     "data": {
      "text/plain": [
       "{'question': 'Hi',\n",
       " 'chat_history': [HumanMessage(content='Hi'),\n",
       "  AIMessage(content='Hey there! What do you have in mind for your website?')],\n",
       " 'text': 'Hey there! What do you have in mind for your website?'}"
      ]
     },
     "execution_count": 4,
     "metadata": {},
     "output_type": "execute_result"
    }
   ],
   "execution_count": 4
  },
  {
   "metadata": {
    "ExecuteTime": {
     "end_time": "2024-08-07T09:24:10.560719Z",
     "start_time": "2024-08-07T09:24:09.682862Z"
    }
   },
   "cell_type": "code",
   "source": "conversation({\"question\": \"I want to sell books online\"})",
   "id": "35b8d951f430bab5",
   "outputs": [
    {
     "name": "stdout",
     "output_type": "stream",
     "text": [
      "\n",
      "\n",
      "\u001B[1m> Entering new LLMChain chain...\u001B[0m\n",
      "Prompt after formatting:\n",
      "\u001B[32;1m\u001B[1;3mSystem: \n",
      "As an online customer service representative at ShopifyCreator, your role is to assist customers in selecting the right template from our templates store. During interactions, you should gather the following details:\n",
      "\n",
      "- Page Type: Identify the needed page types, which could include 'About Us', 'Landing', 'Contact', 'Home', 'Product', 'Collection', 'Blog Post', 'Password', and 'Advertorial' pages.\n",
      "- Style: Determine the desired template style(s), such as 'Cheerful', 'Elegant', 'Energetic', 'Luxury', 'Minimalist', 'Professional', or 'Spooky'.\n",
      "- Industry: Clarify the industry category applicable to the template. Options include 'Art & Crafts', 'Books, Music & Videos', 'Clothing', 'Electronics', 'Food & Drink', 'Hardware & Automotive', 'Health & Beauty', 'Home & Decor', 'Jewelry & Accessories', 'Pet Supplies', 'Service', 'Sports & Recreation', 'Baby & Kids', 'Outdoors & Gardening', or 'Other'.\n",
      "- Additional Information: Extract any other relevant information from the conversation that might aid in selecting the appropriate template.\n",
      "The first one or 2 questions should not too formal, it should be something like \"What do you have in mind ?\" or \"What are you looking for ?\" - and then you can ask more specific questions to get more details\n",
      "\n",
      "Human: Hi\n",
      "AI: Hey there! What do you have in mind for your website?\n",
      "Human: I want to sell books online\u001B[0m\n",
      "\n",
      "\u001B[1m> Finished chain.\u001B[0m\n"
     ]
    },
    {
     "data": {
      "text/plain": [
       "{'question': 'I want to sell books online',\n",
       " 'chat_history': [HumanMessage(content='Hi'),\n",
       "  AIMessage(content='Hey there! What do you have in mind for your website?'),\n",
       "  HumanMessage(content='I want to sell books online'),\n",
       "  AIMessage(content='That sounds great! Are you looking for a specific type of page, like a Home page, Product page, or maybe an About Us page?')],\n",
       " 'text': 'That sounds great! Are you looking for a specific type of page, like a Home page, Product page, or maybe an About Us page?'}"
      ]
     },
     "execution_count": 5,
     "metadata": {},
     "output_type": "execute_result"
    }
   ],
   "execution_count": 5
  },
  {
   "metadata": {
    "ExecuteTime": {
     "end_time": "2024-08-06T11:15:17.721253Z",
     "start_time": "2024-08-06T11:15:15.875227Z"
    }
   },
   "cell_type": "code",
   "source": "conversation({\"question\": \"I want to sell several specific books for Halloween\"})",
   "id": "2d7bce4ad3a77488",
   "outputs": [
    {
     "name": "stdout",
     "output_type": "stream",
     "text": [
      "\n",
      "\n",
      "\u001B[1m> Entering new LLMChain chain...\u001B[0m\n",
      "Prompt after formatting:\n",
      "\u001B[32;1m\u001B[1;3mSystem: \n",
      "As an online customer service representative at ShopifyCreator, your role is to assist customers in selecting the right template from our templates store. During interactions, you should gather the following details:\n",
      "\n",
      "- Page Type: Identify the needed page types, which could include 'About Us', 'Landing', 'Contact', 'Home', 'Product', 'Collection', 'Blog Post', 'Password', and 'Advertorial' pages.\n",
      "- Style: Determine the desired template style(s), such as 'Cheerful', 'Elegant', 'Energetic', 'Luxury', 'Minimalist', 'Professional', or 'Spooky'.\n",
      "- Industry: Clarify the industry category applicable to the template. Options include 'Art & Crafts', 'Books, Music & Videos', 'Clothing', 'Electronics', 'Food & Drink', 'Hardware & Automotive', 'Health & Beauty', 'Home & Decor', 'Jewelry & Accessories', 'Pet Supplies', 'Service', 'Sports & Recreation', 'Baby & Kids', 'Outdoors & Gardening', or 'Other'.\n",
      "- Additional Information: Extract any other relevant information from the conversation that might aid in selecting the appropriate template.\n",
      "The first one or 2 questions should not too formal, it should be something like \"What do you have in mind ?\" or \"What are you looking for ?\" - and then you can ask more specific questions to get more details\n",
      "\n",
      "Human: Hi\n",
      "AI: Hi there! What do you have in mind for your website?\n",
      "Human: Hi\n",
      "AI: Hello again! What are you looking for in terms of your website template?\n",
      "Human: I want to sell books online\n",
      "AI: That sounds great! What type of pages do you need for your book-selling website? For example, do you need a Home page, Product pages, or maybe an About Us page?\n",
      "Human: I want to sell several specific books for Halloween\u001B[0m\n",
      "\n",
      "\u001B[1m> Finished chain.\u001B[0m\n"
     ]
    },
    {
     "data": {
      "text/plain": [
       "{'question': 'I want to sell several specific books for Halloween',\n",
       " 'chat_history': [HumanMessage(content='Hi'),\n",
       "  AIMessage(content='Hi there! What do you have in mind for your website?'),\n",
       "  HumanMessage(content='Hi'),\n",
       "  AIMessage(content='Hello again! What are you looking for in terms of your website template?'),\n",
       "  HumanMessage(content='I want to sell books online'),\n",
       "  AIMessage(content='That sounds great! What type of pages do you need for your book-selling website? For example, do you need a Home page, Product pages, or maybe an About Us page?'),\n",
       "  HumanMessage(content='I want to sell several specific books for Halloween'),\n",
       "  AIMessage(content=\"Awesome! A Halloween-themed book selection sounds fun! For your website, do you need specific pages like a Home page, Product pages for each book, or perhaps a Blog Post to share Halloween-related content? \\n\\nAlso, do you have a particular style in mind for the template? Something like 'Spooky', 'Elegant', or maybe 'Cheerful'?\")],\n",
       " 'text': \"Awesome! A Halloween-themed book selection sounds fun! For your website, do you need specific pages like a Home page, Product pages for each book, or perhaps a Blog Post to share Halloween-related content? \\n\\nAlso, do you have a particular style in mind for the template? Something like 'Spooky', 'Elegant', or maybe 'Cheerful'?\"}"
      ]
     },
     "execution_count": 7,
     "metadata": {},
     "output_type": "execute_result"
    }
   ],
   "execution_count": 7
  },
  {
   "metadata": {
    "ExecuteTime": {
     "end_time": "2024-08-06T11:16:10.649242Z",
     "start_time": "2024-08-06T11:16:08.282675Z"
    }
   },
   "cell_type": "code",
   "source": "conversation({\"question\": \"Spooky should it be ! And I want kind of blog - I want to write review for the books\"})",
   "id": "c81d14f25bbafab3",
   "outputs": [
    {
     "name": "stdout",
     "output_type": "stream",
     "text": [
      "\n",
      "\n",
      "\u001B[1m> Entering new LLMChain chain...\u001B[0m\n",
      "Prompt after formatting:\n",
      "\u001B[32;1m\u001B[1;3mSystem: \n",
      "As an online customer service representative at ShopifyCreator, your role is to assist customers in selecting the right template from our templates store. During interactions, you should gather the following details:\n",
      "\n",
      "- Page Type: Identify the needed page types, which could include 'About Us', 'Landing', 'Contact', 'Home', 'Product', 'Collection', 'Blog Post', 'Password', and 'Advertorial' pages.\n",
      "- Style: Determine the desired template style(s), such as 'Cheerful', 'Elegant', 'Energetic', 'Luxury', 'Minimalist', 'Professional', or 'Spooky'.\n",
      "- Industry: Clarify the industry category applicable to the template. Options include 'Art & Crafts', 'Books, Music & Videos', 'Clothing', 'Electronics', 'Food & Drink', 'Hardware & Automotive', 'Health & Beauty', 'Home & Decor', 'Jewelry & Accessories', 'Pet Supplies', 'Service', 'Sports & Recreation', 'Baby & Kids', 'Outdoors & Gardening', or 'Other'.\n",
      "- Additional Information: Extract any other relevant information from the conversation that might aid in selecting the appropriate template.\n",
      "The first one or 2 questions should not too formal, it should be something like \"What do you have in mind ?\" or \"What are you looking for ?\" - and then you can ask more specific questions to get more details\n",
      "\n",
      "Human: Hi\n",
      "AI: Hi there! What do you have in mind for your website?\n",
      "Human: Hi\n",
      "AI: Hello again! What are you looking for in terms of your website template?\n",
      "Human: I want to sell books online\n",
      "AI: That sounds great! What type of pages do you need for your book-selling website? For example, do you need a Home page, Product pages, or maybe an About Us page?\n",
      "Human: I want to sell several specific books for Halloween\n",
      "AI: Awesome! A Halloween-themed book selection sounds fun! For your website, do you need specific pages like a Home page, Product pages for each book, or perhaps a Blog Post to share Halloween-related content? \n",
      "\n",
      "Also, do you have a particular style in mind for the template? Something like 'Spooky', 'Elegant', or maybe 'Cheerful'?\n",
      "Human: Spooky should it be ! And I want kind of blog - I want to write review for the books\u001B[0m\n",
      "\n",
      "\u001B[1m> Finished chain.\u001B[0m\n"
     ]
    },
    {
     "data": {
      "text/plain": [
       "{'question': 'Spooky should it be ! And I want kind of blog - I want to write review for the books',\n",
       " 'chat_history': [HumanMessage(content='Hi'),\n",
       "  AIMessage(content='Hi there! What do you have in mind for your website?'),\n",
       "  HumanMessage(content='Hi'),\n",
       "  AIMessage(content='Hello again! What are you looking for in terms of your website template?'),\n",
       "  HumanMessage(content='I want to sell books online'),\n",
       "  AIMessage(content='That sounds great! What type of pages do you need for your book-selling website? For example, do you need a Home page, Product pages, or maybe an About Us page?'),\n",
       "  HumanMessage(content='I want to sell several specific books for Halloween'),\n",
       "  AIMessage(content=\"Awesome! A Halloween-themed book selection sounds fun! For your website, do you need specific pages like a Home page, Product pages for each book, or perhaps a Blog Post to share Halloween-related content? \\n\\nAlso, do you have a particular style in mind for the template? Something like 'Spooky', 'Elegant', or maybe 'Cheerful'?\"),\n",
       "  HumanMessage(content='Spooky should it be ! And I want kind of blog - I want to write review for the books'),\n",
       "  AIMessage(content=\"Got it! So you’re looking for a spooky-themed template with a Blog Post page for writing book reviews, along with Product pages for your Halloween books. \\n\\nIs there any specific industry category you would classify your website under? In this case, it would be 'Books, Music & Videos'. Would you like to add any other details or features to your website?\")],\n",
       " 'text': \"Got it! So you’re looking for a spooky-themed template with a Blog Post page for writing book reviews, along with Product pages for your Halloween books. \\n\\nIs there any specific industry category you would classify your website under? In this case, it would be 'Books, Music & Videos'. Would you like to add any other details or features to your website?\"}"
      ]
     },
     "execution_count": 8,
     "metadata": {},
     "output_type": "execute_result"
    }
   ],
   "execution_count": 8
  },
  {
   "metadata": {
    "ExecuteTime": {
     "end_time": "2024-08-06T11:17:08.339419Z",
     "start_time": "2024-08-06T11:17:03.644768Z"
    }
   },
   "cell_type": "code",
   "source": "conversation({\"question\": \"The category should be correct ! What more should I pay attention to ?\"})",
   "id": "5cfdd28c006315cd",
   "outputs": [
    {
     "name": "stdout",
     "output_type": "stream",
     "text": [
      "\n",
      "\n",
      "\u001B[1m> Entering new LLMChain chain...\u001B[0m\n",
      "Prompt after formatting:\n",
      "\u001B[32;1m\u001B[1;3mSystem: \n",
      "As an online customer service representative at ShopifyCreator, your role is to assist customers in selecting the right template from our templates store. During interactions, you should gather the following details:\n",
      "\n",
      "- Page Type: Identify the needed page types, which could include 'About Us', 'Landing', 'Contact', 'Home', 'Product', 'Collection', 'Blog Post', 'Password', and 'Advertorial' pages.\n",
      "- Style: Determine the desired template style(s), such as 'Cheerful', 'Elegant', 'Energetic', 'Luxury', 'Minimalist', 'Professional', or 'Spooky'.\n",
      "- Industry: Clarify the industry category applicable to the template. Options include 'Art & Crafts', 'Books, Music & Videos', 'Clothing', 'Electronics', 'Food & Drink', 'Hardware & Automotive', 'Health & Beauty', 'Home & Decor', 'Jewelry & Accessories', 'Pet Supplies', 'Service', 'Sports & Recreation', 'Baby & Kids', 'Outdoors & Gardening', or 'Other'.\n",
      "- Additional Information: Extract any other relevant information from the conversation that might aid in selecting the appropriate template.\n",
      "The first one or 2 questions should not too formal, it should be something like \"What do you have in mind ?\" or \"What are you looking for ?\" - and then you can ask more specific questions to get more details\n",
      "\n",
      "Human: Hi\n",
      "AI: Hi there! What do you have in mind for your website?\n",
      "Human: Hi\n",
      "AI: Hello again! What are you looking for in terms of your website template?\n",
      "Human: I want to sell books online\n",
      "AI: That sounds great! What type of pages do you need for your book-selling website? For example, do you need a Home page, Product pages, or maybe an About Us page?\n",
      "Human: I want to sell several specific books for Halloween\n",
      "AI: Awesome! A Halloween-themed book selection sounds fun! For your website, do you need specific pages like a Home page, Product pages for each book, or perhaps a Blog Post to share Halloween-related content? \n",
      "\n",
      "Also, do you have a particular style in mind for the template? Something like 'Spooky', 'Elegant', or maybe 'Cheerful'?\n",
      "Human: Spooky should it be ! And I want kind of blog - I want to write review for the books\n",
      "AI: Got it! So you’re looking for a spooky-themed template with a Blog Post page for writing book reviews, along with Product pages for your Halloween books. \n",
      "\n",
      "Is there any specific industry category you would classify your website under? In this case, it would be 'Books, Music & Videos'. Would you like to add any other details or features to your website?\n",
      "Human: The category should be correct ! What more should I pay attention to ?\u001B[0m\n",
      "\n",
      "\u001B[1m> Finished chain.\u001B[0m\n"
     ]
    },
    {
     "data": {
      "text/plain": [
       "{'question': 'The category should be correct ! What more should I pay attention to ?',\n",
       " 'chat_history': [HumanMessage(content='Hi'),\n",
       "  AIMessage(content='Hi there! What do you have in mind for your website?'),\n",
       "  HumanMessage(content='Hi'),\n",
       "  AIMessage(content='Hello again! What are you looking for in terms of your website template?'),\n",
       "  HumanMessage(content='I want to sell books online'),\n",
       "  AIMessage(content='That sounds great! What type of pages do you need for your book-selling website? For example, do you need a Home page, Product pages, or maybe an About Us page?'),\n",
       "  HumanMessage(content='I want to sell several specific books for Halloween'),\n",
       "  AIMessage(content=\"Awesome! A Halloween-themed book selection sounds fun! For your website, do you need specific pages like a Home page, Product pages for each book, or perhaps a Blog Post to share Halloween-related content? \\n\\nAlso, do you have a particular style in mind for the template? Something like 'Spooky', 'Elegant', or maybe 'Cheerful'?\"),\n",
       "  HumanMessage(content='Spooky should it be ! And I want kind of blog - I want to write review for the books'),\n",
       "  AIMessage(content=\"Got it! So you’re looking for a spooky-themed template with a Blog Post page for writing book reviews, along with Product pages for your Halloween books. \\n\\nIs there any specific industry category you would classify your website under? In this case, it would be 'Books, Music & Videos'. Would you like to add any other details or features to your website?\"),\n",
       "  HumanMessage(content='The category should be correct ! What more should I pay attention to ?'),\n",
       "  AIMessage(content=\"Great! Since you're focused on a spooky theme for selling Halloween books, here are a few more things to consider:\\n\\n1. **User Experience**: Make sure the navigation is easy for customers to find books and read reviews.\\n\\n2. **Visuals**: Look for templates that allow for striking visuals, as Halloween-themed imagery can attract attention.\\n\\n3. **Mobile Responsiveness**: Ensure the template works well on mobile devices since many customers shop on their phones.\\n\\n4. **SEO Optimization**: Choose a template that is optimized for search engines to help your books get discovered.\\n\\n5. **Social Media Integration**: Consider templates that allow you to share your blog posts easily on social media to attract more visitors.\\n\\n6. **Payment Options**: Ensure the template supports various payment gateways for seamless transactions.\\n\\nIf you keep these points in mind, you’ll be on the right track! Would you like me to help you find some specific templates that fit your spooky style and needs?\")],\n",
       " 'text': \"Great! Since you're focused on a spooky theme for selling Halloween books, here are a few more things to consider:\\n\\n1. **User Experience**: Make sure the navigation is easy for customers to find books and read reviews.\\n\\n2. **Visuals**: Look for templates that allow for striking visuals, as Halloween-themed imagery can attract attention.\\n\\n3. **Mobile Responsiveness**: Ensure the template works well on mobile devices since many customers shop on their phones.\\n\\n4. **SEO Optimization**: Choose a template that is optimized for search engines to help your books get discovered.\\n\\n5. **Social Media Integration**: Consider templates that allow you to share your blog posts easily on social media to attract more visitors.\\n\\n6. **Payment Options**: Ensure the template supports various payment gateways for seamless transactions.\\n\\nIf you keep these points in mind, you’ll be on the right track! Would you like me to help you find some specific templates that fit your spooky style and needs?\"}"
      ]
     },
     "execution_count": 9,
     "metadata": {},
     "output_type": "execute_result"
    }
   ],
   "execution_count": 9
  },
  {
   "metadata": {
    "ExecuteTime": {
     "end_time": "2024-08-06T11:17:23.662597Z",
     "start_time": "2024-08-06T11:17:21.291372Z"
    }
   },
   "cell_type": "code",
   "source": "conversation({\"question\": \"And I like minimalist style\"})",
   "id": "f4d56de603bc56dd",
   "outputs": [
    {
     "name": "stdout",
     "output_type": "stream",
     "text": [
      "\n",
      "\n",
      "\u001B[1m> Entering new LLMChain chain...\u001B[0m\n",
      "Prompt after formatting:\n",
      "\u001B[32;1m\u001B[1;3mSystem: \n",
      "As an online customer service representative at ShopifyCreator, your role is to assist customers in selecting the right template from our templates store. During interactions, you should gather the following details:\n",
      "\n",
      "- Page Type: Identify the needed page types, which could include 'About Us', 'Landing', 'Contact', 'Home', 'Product', 'Collection', 'Blog Post', 'Password', and 'Advertorial' pages.\n",
      "- Style: Determine the desired template style(s), such as 'Cheerful', 'Elegant', 'Energetic', 'Luxury', 'Minimalist', 'Professional', or 'Spooky'.\n",
      "- Industry: Clarify the industry category applicable to the template. Options include 'Art & Crafts', 'Books, Music & Videos', 'Clothing', 'Electronics', 'Food & Drink', 'Hardware & Automotive', 'Health & Beauty', 'Home & Decor', 'Jewelry & Accessories', 'Pet Supplies', 'Service', 'Sports & Recreation', 'Baby & Kids', 'Outdoors & Gardening', or 'Other'.\n",
      "- Additional Information: Extract any other relevant information from the conversation that might aid in selecting the appropriate template.\n",
      "The first one or 2 questions should not too formal, it should be something like \"What do you have in mind ?\" or \"What are you looking for ?\" - and then you can ask more specific questions to get more details\n",
      "\n",
      "Human: Hi\n",
      "AI: Hi there! What do you have in mind for your website?\n",
      "Human: Hi\n",
      "AI: Hello again! What are you looking for in terms of your website template?\n",
      "Human: I want to sell books online\n",
      "AI: That sounds great! What type of pages do you need for your book-selling website? For example, do you need a Home page, Product pages, or maybe an About Us page?\n",
      "Human: I want to sell several specific books for Halloween\n",
      "AI: Awesome! A Halloween-themed book selection sounds fun! For your website, do you need specific pages like a Home page, Product pages for each book, or perhaps a Blog Post to share Halloween-related content? \n",
      "\n",
      "Also, do you have a particular style in mind for the template? Something like 'Spooky', 'Elegant', or maybe 'Cheerful'?\n",
      "Human: Spooky should it be ! And I want kind of blog - I want to write review for the books\n",
      "AI: Got it! So you’re looking for a spooky-themed template with a Blog Post page for writing book reviews, along with Product pages for your Halloween books. \n",
      "\n",
      "Is there any specific industry category you would classify your website under? In this case, it would be 'Books, Music & Videos'. Would you like to add any other details or features to your website?\n",
      "Human: The category should be correct ! What more should I pay attention to ?\n",
      "AI: Great! Since you're focused on a spooky theme for selling Halloween books, here are a few more things to consider:\n",
      "\n",
      "1. **User Experience**: Make sure the navigation is easy for customers to find books and read reviews.\n",
      "\n",
      "2. **Visuals**: Look for templates that allow for striking visuals, as Halloween-themed imagery can attract attention.\n",
      "\n",
      "3. **Mobile Responsiveness**: Ensure the template works well on mobile devices since many customers shop on their phones.\n",
      "\n",
      "4. **SEO Optimization**: Choose a template that is optimized for search engines to help your books get discovered.\n",
      "\n",
      "5. **Social Media Integration**: Consider templates that allow you to share your blog posts easily on social media to attract more visitors.\n",
      "\n",
      "6. **Payment Options**: Ensure the template supports various payment gateways for seamless transactions.\n",
      "\n",
      "If you keep these points in mind, you’ll be on the right track! Would you like me to help you find some specific templates that fit your spooky style and needs?\n",
      "Human: And I like minimalist style\u001B[0m\n",
      "\n",
      "\u001B[1m> Finished chain.\u001B[0m\n"
     ]
    },
    {
     "data": {
      "text/plain": [
       "{'question': 'And I like minimalist style',\n",
       " 'chat_history': [HumanMessage(content='Hi'),\n",
       "  AIMessage(content='Hi there! What do you have in mind for your website?'),\n",
       "  HumanMessage(content='Hi'),\n",
       "  AIMessage(content='Hello again! What are you looking for in terms of your website template?'),\n",
       "  HumanMessage(content='I want to sell books online'),\n",
       "  AIMessage(content='That sounds great! What type of pages do you need for your book-selling website? For example, do you need a Home page, Product pages, or maybe an About Us page?'),\n",
       "  HumanMessage(content='I want to sell several specific books for Halloween'),\n",
       "  AIMessage(content=\"Awesome! A Halloween-themed book selection sounds fun! For your website, do you need specific pages like a Home page, Product pages for each book, or perhaps a Blog Post to share Halloween-related content? \\n\\nAlso, do you have a particular style in mind for the template? Something like 'Spooky', 'Elegant', or maybe 'Cheerful'?\"),\n",
       "  HumanMessage(content='Spooky should it be ! And I want kind of blog - I want to write review for the books'),\n",
       "  AIMessage(content=\"Got it! So you’re looking for a spooky-themed template with a Blog Post page for writing book reviews, along with Product pages for your Halloween books. \\n\\nIs there any specific industry category you would classify your website under? In this case, it would be 'Books, Music & Videos'. Would you like to add any other details or features to your website?\"),\n",
       "  HumanMessage(content='The category should be correct ! What more should I pay attention to ?'),\n",
       "  AIMessage(content=\"Great! Since you're focused on a spooky theme for selling Halloween books, here are a few more things to consider:\\n\\n1. **User Experience**: Make sure the navigation is easy for customers to find books and read reviews.\\n\\n2. **Visuals**: Look for templates that allow for striking visuals, as Halloween-themed imagery can attract attention.\\n\\n3. **Mobile Responsiveness**: Ensure the template works well on mobile devices since many customers shop on their phones.\\n\\n4. **SEO Optimization**: Choose a template that is optimized for search engines to help your books get discovered.\\n\\n5. **Social Media Integration**: Consider templates that allow you to share your blog posts easily on social media to attract more visitors.\\n\\n6. **Payment Options**: Ensure the template supports various payment gateways for seamless transactions.\\n\\nIf you keep these points in mind, you’ll be on the right track! Would you like me to help you find some specific templates that fit your spooky style and needs?\"),\n",
       "  HumanMessage(content='And I like minimalist style'),\n",
       "  AIMessage(content=\"Perfect! So to summarize, you're looking for a minimalist and spooky-themed template with the following features:\\n\\n- **Page Types**: Product pages for your Halloween books and a Blog Post page for reviews.\\n- **Style**: Minimalist and spooky.\\n- **Industry Category**: Books, Music & Videos.\\n\\nI can help you find some templates that fit that description! Would you like to see a few options now?\")],\n",
       " 'text': \"Perfect! So to summarize, you're looking for a minimalist and spooky-themed template with the following features:\\n\\n- **Page Types**: Product pages for your Halloween books and a Blog Post page for reviews.\\n- **Style**: Minimalist and spooky.\\n- **Industry Category**: Books, Music & Videos.\\n\\nI can help you find some templates that fit that description! Would you like to see a few options now?\"}"
      ]
     },
     "execution_count": 10,
     "metadata": {},
     "output_type": "execute_result"
    }
   ],
   "execution_count": 10
  },
  {
   "metadata": {},
   "cell_type": "code",
   "source": "",
   "id": "4add2a875232989e",
   "outputs": [],
   "execution_count": null
  },
  {
   "metadata": {},
   "cell_type": "code",
   "source": "",
   "id": "9717e5397621ff78",
   "outputs": [],
   "execution_count": null
  },
  {
   "metadata": {
    "ExecuteTime": {
     "end_time": "2024-08-06T15:38:53.084261Z",
     "start_time": "2024-08-06T15:38:53.079635Z"
    }
   },
   "cell_type": "code",
   "source": [
    "# Extractor from chat history\n",
    "from langchain.output_parsers import ResponseSchema\n",
    "from langchain.output_parsers import StructuredOutputParser\n",
    "\n",
    "type_schema = ResponseSchema(\n",
    "    name=\"page-type\",\n",
    "    type=\"list[str]\",\n",
    "    description=\"One or more of the following Page Types: About us page, Landing page, Contact page, Home page, Product page, Collection page, Blog post page, Password page, Advertorial page\",\n",
    ")\n",
    "style_schema = ResponseSchema(\n",
    "    name=\"style\",\n",
    "    type=\"list[str]\",\n",
    "    description=\"One or more of following Style categories: Cheerful, Elegant, Energetic, Luxury, Minimalist, Professional, Spooky\",\n",
    ")\n",
    "industry_schema = ResponseSchema(\n",
    "    name=\"industry\",\n",
    "    type=\"list[str]\",\n",
    "    description=\"One or more of following Industry categories: Art & crafts, Books, music & videos, Clothing, Electronics, Food & drink, Hardware & automotive, Health & beauty, Home & decor, Jewelry & accessories, Pet supplies, Service, Sports & recreation, Baby & kids, Outdoors & gardening, Other\",\n",
    ")\n",
    "response_schema = [type_schema, style_schema, industry_schema]\n",
    "output_parser = StructuredOutputParser.from_response_schemas(response_schema)\n",
    "format_instruction = output_parser.get_format_instructions()\n",
    "format_instruction"
   ],
   "id": "9781ed560500a0b1",
   "outputs": [
    {
     "data": {
      "text/plain": [
       "'The output should be a markdown code snippet formatted in the following schema, including the leading and trailing \"```json\" and \"```\":\\n\\n```json\\n{\\n\\t\"page-type\": list[str]  // One or more of the following Page Types: About us page, Landing page, Contact page, Home page, Product page, Collection page, Blog post page, Password page, Advertorial page\\n\\t\"style\": list[str]  // One or more of following Style categories: Cheerful, Elegant, Energetic, Luxury, Minimalist, Professional, Spooky\\n\\t\"industry\": list[str]  // One or more of following Industry categories: Art & crafts, Books, music & videos, Clothing, Electronics, Food & drink, Hardware & automotive, Health & beauty, Home & decor, Jewelry & accessories, Pet supplies, Service, Sports & recreation, Baby & kids, Outdoors & gardening, Other\\n}\\n```'"
      ]
     },
     "execution_count": 19,
     "metadata": {},
     "output_type": "execute_result"
    }
   ],
   "execution_count": 19
  },
  {
   "metadata": {
    "ExecuteTime": {
     "end_time": "2024-08-06T15:40:54.760281Z",
     "start_time": "2024-08-06T15:40:54.756046Z"
    }
   },
   "cell_type": "code",
   "source": [
    "\n",
    "message_template = \"\"\"\\\n",
    "Act as e-commerce expert and extract the following information from the chat history:\n",
    "- page-type\n",
    "- style\n",
    "- industry\n",
    "\n",
    ">>>> FORMAT INSTRUCTION <<<<\n",
    "format_instruction\n",
    "\n",
    ">>>> CHAT HISTORY <<<<\n",
    "{chat_history}\n",
    "\"\"\"\n",
    "\n",
    "prompt = ChatPromptTemplate.from_template(message_template)\n",
    "message = prompt.format_messages(\n",
    "    # format_instruction=format_instruction,\n",
    "    chat_history=memory.buffer\n",
    ")\n",
    "message = message[0].content.replace(\"format_instruction\", \"{format_instruction}\")\n",
    "message"
   ],
   "id": "38ebe484ad98f15f",
   "outputs": [
    {
     "data": {
      "text/plain": [
       "'Act as e-commerce expert and extract the following information from the chat history:\\n- page-type\\n- style\\n- industry\\n\\n>>>> FORMAT INSTRUCTION <<<<\\n{format_instruction}\\n\\n>>>> CHAT HISTORY <<<<\\n[HumanMessage(content=\\'Hi\\'), AIMessage(content=\\'Hi there! What do you have in mind for your website?\\'), HumanMessage(content=\\'Hi\\'), AIMessage(content=\\'Hello again! What are you looking for in terms of your website template?\\'), HumanMessage(content=\\'I want to sell books online\\'), AIMessage(content=\\'That sounds great! What type of pages do you need for your book-selling website? For example, do you need a Home page, Product pages, or maybe an About Us page?\\'), HumanMessage(content=\\'I want to sell several specific books for Halloween\\'), AIMessage(content=\"Awesome! A Halloween-themed book selection sounds fun! For your website, do you need specific pages like a Home page, Product pages for each book, or perhaps a Blog Post to share Halloween-related content? \\\\n\\\\nAlso, do you have a particular style in mind for the template? Something like \\'Spooky\\', \\'Elegant\\', or maybe \\'Cheerful\\'?\"), HumanMessage(content=\\'Spooky should it be ! And I want kind of blog - I want to write review for the books\\'), AIMessage(content=\"Got it! So you’re looking for a spooky-themed template with a Blog Post page for writing book reviews, along with Product pages for your Halloween books. \\\\n\\\\nIs there any specific industry category you would classify your website under? In this case, it would be \\'Books, Music & Videos\\'. Would you like to add any other details or features to your website?\"), HumanMessage(content=\\'The category should be correct ! What more should I pay attention to ?\\'), AIMessage(content=\"Great! Since you\\'re focused on a spooky theme for selling Halloween books, here are a few more things to consider:\\\\n\\\\n1. **User Experience**: Make sure the navigation is easy for customers to find books and read reviews.\\\\n\\\\n2. **Visuals**: Look for templates that allow for striking visuals, as Halloween-themed imagery can attract attention.\\\\n\\\\n3. **Mobile Responsiveness**: Ensure the template works well on mobile devices since many customers shop on their phones.\\\\n\\\\n4. **SEO Optimization**: Choose a template that is optimized for search engines to help your books get discovered.\\\\n\\\\n5. **Social Media Integration**: Consider templates that allow you to share your blog posts easily on social media to attract more visitors.\\\\n\\\\n6. **Payment Options**: Ensure the template supports various payment gateways for seamless transactions.\\\\n\\\\nIf you keep these points in mind, you’ll be on the right track! Would you like me to help you find some specific templates that fit your spooky style and needs?\"), HumanMessage(content=\\'And I like minimalist style\\'), AIMessage(content=\"Perfect! So to summarize, you\\'re looking for a minimalist and spooky-themed template with the following features:\\\\n\\\\n- **Page Types**: Product pages for your Halloween books and a Blog Post page for reviews.\\\\n- **Style**: Minimalist and spooky.\\\\n- **Industry Category**: Books, Music & Videos.\\\\n\\\\nI can help you find some templates that fit that description! Would you like to see a few options now?\")]\\n'"
      ]
     },
     "execution_count": 23,
     "metadata": {},
     "output_type": "execute_result"
    }
   ],
   "execution_count": 23
  },
  {
   "metadata": {
    "ExecuteTime": {
     "end_time": "2024-08-06T11:17:37.022947Z",
     "start_time": "2024-08-06T11:17:37.017689Z"
    }
   },
   "cell_type": "code",
   "source": "message[0].content",
   "id": "720df65253263f68",
   "outputs": [
    {
     "data": {
      "text/plain": [
       "'Act as e-commerce expert and extract the following information from the chat history:\\n- page-type\\n- style\\n- industry\\n\\n>>>> FORMAT INSTRUCTION <<<<\\nThe output should be a markdown code snippet formatted in the following schema, including the leading and trailing \"```json\" and \"```\":\\n\\n```json\\n{\\n\\t\"page-type\": list[str]  // One or more of the following Page Types: About us page, Landing page, Contact page, Home page, Product page, Collection page, Blog post page, Password page, Advertorial page\\n\\t\"style\": list[str]  // One or more of following Style categories: Cheerful, Elegant, Energetic, Luxury, Minimalist, Professional, Spooky\\n\\t\"industry\": list[str]  // One or more of following Industry categories: Art & crafts, Books, music & videos, Clothing, Electronics, Food & drink, Hardware & automotive, Health & beauty, Home & decor, Jewelry & accessories, Pet supplies, Service, Sports & recreation, Baby & kids, Outdoors & gardening, Other\\n}\\n```\\n\\n>>>> CHAT HISTORY <<<<\\n[HumanMessage(content=\\'Hi\\'), AIMessage(content=\\'Hi there! What do you have in mind for your website?\\'), HumanMessage(content=\\'Hi\\'), AIMessage(content=\\'Hello again! What are you looking for in terms of your website template?\\'), HumanMessage(content=\\'I want to sell books online\\'), AIMessage(content=\\'That sounds great! What type of pages do you need for your book-selling website? For example, do you need a Home page, Product pages, or maybe an About Us page?\\'), HumanMessage(content=\\'I want to sell several specific books for Halloween\\'), AIMessage(content=\"Awesome! A Halloween-themed book selection sounds fun! For your website, do you need specific pages like a Home page, Product pages for each book, or perhaps a Blog Post to share Halloween-related content? \\\\n\\\\nAlso, do you have a particular style in mind for the template? Something like \\'Spooky\\', \\'Elegant\\', or maybe \\'Cheerful\\'?\"), HumanMessage(content=\\'Spooky should it be ! And I want kind of blog - I want to write review for the books\\'), AIMessage(content=\"Got it! So you’re looking for a spooky-themed template with a Blog Post page for writing book reviews, along with Product pages for your Halloween books. \\\\n\\\\nIs there any specific industry category you would classify your website under? In this case, it would be \\'Books, Music & Videos\\'. Would you like to add any other details or features to your website?\"), HumanMessage(content=\\'The category should be correct ! What more should I pay attention to ?\\'), AIMessage(content=\"Great! Since you\\'re focused on a spooky theme for selling Halloween books, here are a few more things to consider:\\\\n\\\\n1. **User Experience**: Make sure the navigation is easy for customers to find books and read reviews.\\\\n\\\\n2. **Visuals**: Look for templates that allow for striking visuals, as Halloween-themed imagery can attract attention.\\\\n\\\\n3. **Mobile Responsiveness**: Ensure the template works well on mobile devices since many customers shop on their phones.\\\\n\\\\n4. **SEO Optimization**: Choose a template that is optimized for search engines to help your books get discovered.\\\\n\\\\n5. **Social Media Integration**: Consider templates that allow you to share your blog posts easily on social media to attract more visitors.\\\\n\\\\n6. **Payment Options**: Ensure the template supports various payment gateways for seamless transactions.\\\\n\\\\nIf you keep these points in mind, you’ll be on the right track! Would you like me to help you find some specific templates that fit your spooky style and needs?\"), HumanMessage(content=\\'And I like minimalist style\\'), AIMessage(content=\"Perfect! So to summarize, you\\'re looking for a minimalist and spooky-themed template with the following features:\\\\n\\\\n- **Page Types**: Product pages for your Halloween books and a Blog Post page for reviews.\\\\n- **Style**: Minimalist and spooky.\\\\n- **Industry Category**: Books, Music & Videos.\\\\n\\\\nI can help you find some templates that fit that description! Would you like to see a few options now?\")]\\n'"
      ]
     },
     "execution_count": 13,
     "metadata": {},
     "output_type": "execute_result"
    }
   ],
   "execution_count": 13
  },
  {
   "metadata": {
    "ExecuteTime": {
     "end_time": "2024-08-06T11:17:40.054636Z",
     "start_time": "2024-08-06T11:17:38.374048Z"
    }
   },
   "cell_type": "code",
   "source": [
    "chat = ChatOpenAI(model=\"gpt-4o-mini\")\n",
    "response = chat.invoke(message[0].content)"
   ],
   "id": "28128c568c901b47",
   "outputs": [],
   "execution_count": 14
  },
  {
   "metadata": {
    "ExecuteTime": {
     "end_time": "2024-08-06T11:17:40.058894Z",
     "start_time": "2024-08-06T11:17:40.055950Z"
    }
   },
   "cell_type": "code",
   "source": "response",
   "id": "888980e9088e6395",
   "outputs": [
    {
     "data": {
      "text/plain": [
       "AIMessage(content='```json\\n{\\n\\t\"page-type\": [\"Product page\", \"Blog post page\"],\\n\\t\"style\": [\"Spooky\", \"Minimalist\"],\\n\\t\"industry\": [\"Books, music & videos\"]\\n}\\n```', response_metadata={'token_usage': {'completion_tokens': 43, 'prompt_tokens': 876, 'total_tokens': 919}, 'model_name': 'gpt-4o-mini-2024-07-18', 'system_fingerprint': 'fp_48196bc67a', 'finish_reason': 'stop', 'logprobs': None}, id='run-cf3d290b-19f9-4877-b4be-5330803ffefb-0', usage_metadata={'input_tokens': 876, 'output_tokens': 43, 'total_tokens': 919})"
      ]
     },
     "execution_count": 15,
     "metadata": {},
     "output_type": "execute_result"
    }
   ],
   "execution_count": 15
  },
  {
   "metadata": {
    "ExecuteTime": {
     "end_time": "2024-08-06T11:17:41.090651Z",
     "start_time": "2024-08-06T11:17:41.087992Z"
    }
   },
   "cell_type": "code",
   "source": "print(response.content)",
   "id": "d93ebc33ffc27ff0",
   "outputs": [
    {
     "name": "stdout",
     "output_type": "stream",
     "text": [
      "```json\n",
      "{\n",
      "\t\"page-type\": [\"Product page\", \"Blog post page\"],\n",
      "\t\"style\": [\"Spooky\", \"Minimalist\"],\n",
      "\t\"industry\": [\"Books, music & videos\"]\n",
      "}\n",
      "```\n"
     ]
    }
   ],
   "execution_count": 16
  },
  {
   "metadata": {
    "ExecuteTime": {
     "end_time": "2024-08-06T11:17:41.912208Z",
     "start_time": "2024-08-06T11:17:41.907510Z"
    }
   },
   "cell_type": "code",
   "source": [
    "formatted_response = output_parser.parse(response.content)\n",
    "formatted_response"
   ],
   "id": "1eaae1098be47975",
   "outputs": [
    {
     "data": {
      "text/plain": [
       "{'page-type': ['Product page', 'Blog post page'],\n",
       " 'style': ['Spooky', 'Minimalist'],\n",
       " 'industry': ['Books, music & videos']}"
      ]
     },
     "execution_count": 17,
     "metadata": {},
     "output_type": "execute_result"
    }
   ],
   "execution_count": 17
  },
  {
   "metadata": {},
   "cell_type": "code",
   "source": "",
   "id": "89bc3c0609fc7ec",
   "outputs": [],
   "execution_count": null
  }
 ],
 "metadata": {
  "kernelspec": {
   "display_name": "Python 3",
   "language": "python",
   "name": "python3"
  },
  "language_info": {
   "codemirror_mode": {
    "name": "ipython",
    "version": 2
   },
   "file_extension": ".py",
   "mimetype": "text/x-python",
   "name": "python",
   "nbconvert_exporter": "python",
   "pygments_lexer": "ipython2",
   "version": "2.7.6"
  }
 },
 "nbformat": 4,
 "nbformat_minor": 5
}
