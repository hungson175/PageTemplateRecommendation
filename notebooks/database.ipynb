{
 "cells": [
  {
   "cell_type": "code",
   "id": "initial_id",
   "metadata": {
    "collapsed": true,
    "ExecuteTime": {
     "end_time": "2024-08-06T00:29:59.323191Z",
     "start_time": "2024-08-06T00:29:59.216662Z"
    }
   },
   "source": [
    "import sqlalchemy\n",
    "from sqlalchemy import create_engine, Column, Integer, String, Text\n",
    "from sqlalchemy.orm import declarative_base, sessionmaker\n",
    "from sqlalchemy.dialects.sqlite import JSON\n",
    "Base = declarative_base()"
   ],
   "outputs": [],
   "execution_count": 2
  },
  {
   "metadata": {
    "ExecuteTime": {
     "end_time": "2024-08-06T00:29:59.741261Z",
     "start_time": "2024-08-06T00:29:59.735406Z"
    }
   },
   "cell_type": "code",
   "source": [
    "class Template(Base):\n",
    "    __tablename__ = 'templates'\n",
    "    id = Column(Integer, primary_key=True)\n",
    "    title = Column(String)\n",
    "    description = Column(Text)\n",
    "    imageURL = Column(String)\n",
    "    templateURL = Column(String)\n",
    "    page_types = Column(JSON)\n",
    "    style_categories = Column(JSON)\n",
    "    industry_categories = Column(JSON)\n",
    "    def __repr__(self):\n",
    "        return f\"\"\"<\n",
    "        Template(title={self.title}, \n",
    "        description={self.description})\n",
    "        page_types={self.page_types}\n",
    "        style_categories={self.style_categories}\n",
    "        industry_categories={self.industry_categories}\n",
    "        >\"\"\"\n",
    "\n",
    "engine = create_engine('sqlite:///pagefly_templates.db')\n",
    "Base.metadata.create_all(engine)\n",
    "    "
   ],
   "id": "62e263bbdaa55d2e",
   "outputs": [],
   "execution_count": 3
  },
  {
   "metadata": {},
   "cell_type": "markdown",
   "source": "",
   "id": "c416ba58e8a1d1bb"
  },
  {
   "metadata": {
    "ExecuteTime": {
     "end_time": "2024-08-06T00:30:00.872076Z",
     "start_time": "2024-08-06T00:30:00.870182Z"
    }
   },
   "cell_type": "code",
   "source": [
    "Session = sessionmaker(bind=engine)\n",
    "session = Session()"
   ],
   "id": "28f27e25e58c1ebf",
   "outputs": [],
   "execution_count": 4
  },
  {
   "metadata": {
    "ExecuteTime": {
     "end_time": "2024-08-06T00:30:01.403723Z",
     "start_time": "2024-08-06T00:30:01.401753Z"
    }
   },
   "cell_type": "code",
   "source": [
    "import sqlalchemy\n",
    "print(sqlalchemy.__version__)"
   ],
   "id": "50aace5f867bede5",
   "outputs": [
    {
     "name": "stdout",
     "output_type": "stream",
     "text": [
      "2.0.31\n"
     ]
    }
   ],
   "execution_count": 5
  },
  {
   "metadata": {
    "ExecuteTime": {
     "end_time": "2024-08-06T00:30:02.230575Z",
     "start_time": "2024-08-06T00:30:02.225861Z"
    }
   },
   "cell_type": "code",
   "source": [
    "new_template = Template(\n",
    "    title=\"Modern Home Page\",\n",
    "    description=\"A modern and sleek home page template for any type of business.\",\n",
    "    imageURL=\"http://example.com/image.jpg\",\n",
    "    templateURL=\"http://example.com/template\",\n",
    "    page_types=[\"Home page\", \"Landing page\"],\n",
    "    style_categories=[\"Minimalist\", \"Professional\"],\n",
    "    industry_categories=[\"Electronics\", \"Home & decor\"]\n",
    ")\n",
    "other_template = Template(\n",
    "    title=\"A Landing Page\",\n",
    "    description=\"A landing page template for any type of business.\",\n",
    "    imageURL=\"http://example.com/landing.jpg\",\n",
    "    templateURL=\"http://example.com/template/landing.html\",\n",
    "    page_types=[\"Landing page\"],\n",
    "    style_categories=[\"Elegant\"],\n",
    "    industry_categories=[\"music & videos\", \"Clothing\"]\n",
    ")"
   ],
   "id": "b334d4e514b7f97f",
   "outputs": [],
   "execution_count": 6
  },
  {
   "metadata": {
    "ExecuteTime": {
     "end_time": "2024-08-06T00:30:04.103846Z",
     "start_time": "2024-08-06T00:30:04.096758Z"
    }
   },
   "cell_type": "code",
   "source": [
    "session.add(new_template)\n",
    "session.add(other_template)\n",
    "session.commit()"
   ],
   "id": "adc7a38d71beb66f",
   "outputs": [],
   "execution_count": 7
  },
  {
   "metadata": {
    "ExecuteTime": {
     "end_time": "2024-08-06T00:30:05.815646Z",
     "start_time": "2024-08-06T00:30:05.810946Z"
    }
   },
   "cell_type": "code",
   "source": [
    "templates = session.query(Template).filter(Template.style_categories.contains(\"Minimalist\"))\n",
    "all_templates = session.query(Template).all()\n",
    "session.close()"
   ],
   "id": "2d1998834680b4d7",
   "outputs": [],
   "execution_count": 8
  },
  {
   "metadata": {
    "ExecuteTime": {
     "end_time": "2024-08-06T00:30:06.562054Z",
     "start_time": "2024-08-06T00:30:06.559014Z"
    }
   },
   "cell_type": "code",
   "source": [
    "for t in templates:\n",
    "    print(t)"
   ],
   "id": "8fc883a3e3869838",
   "outputs": [
    {
     "name": "stdout",
     "output_type": "stream",
     "text": [
      "<\n",
      "        Template(title=Modern Home Page, \n",
      "        description=A modern and sleek home page template for any type of business.)\n",
      "        page_types=['Home page', 'Landing page']\n",
      "        style_categories=['Minimalist', 'Professional']\n",
      "        industry_categories=['Electronics', 'Home & decor']\n",
      "        >\n",
      "<\n",
      "        Template(title=Modern Home Page, \n",
      "        description=A modern and sleek home page template for any type of business.)\n",
      "        page_types=['Home page', 'Landing page']\n",
      "        style_categories=['Minimalist', 'Professional']\n",
      "        industry_categories=['Electronics', 'Home & decor']\n",
      "        >\n",
      "<\n",
      "        Template(title=Modern Home Page, \n",
      "        description=A modern and sleek home page template for any type of business.)\n",
      "        page_types=['Home page', 'Landing page']\n",
      "        style_categories=['Minimalist', 'Professional']\n",
      "        industry_categories=['Electronics', 'Home & decor']\n",
      "        >\n"
     ]
    }
   ],
   "execution_count": 9
  },
  {
   "metadata": {
    "ExecuteTime": {
     "end_time": "2024-08-06T00:30:34.622851Z",
     "start_time": "2024-08-06T00:30:34.619187Z"
    }
   },
   "cell_type": "code",
   "source": "print(templates)",
   "id": "ca91231d197c3af6",
   "outputs": [
    {
     "name": "stdout",
     "output_type": "stream",
     "text": [
      "SELECT templates.id AS templates_id, templates.title AS templates_title, templates.description AS templates_description, templates.\"imageURL\" AS \"templates_imageURL\", templates.\"templateURL\" AS \"templates_templateURL\", templates.page_types AS templates_page_types, templates.style_categories AS templates_style_categories, templates.industry_categories AS templates_industry_categories \n",
      "FROM templates \n",
      "WHERE (templates.style_categories LIKE '%' || ? || '%')\n"
     ]
    }
   ],
   "execution_count": 10
  },
  {
   "metadata": {
    "ExecuteTime": {
     "end_time": "2024-08-06T00:31:29.509255Z",
     "start_time": "2024-08-06T00:31:29.507420Z"
    }
   },
   "cell_type": "code",
   "source": "print(all_templates)",
   "id": "39897e454e61c9f6",
   "outputs": [
    {
     "name": "stdout",
     "output_type": "stream",
     "text": [
      "[<\n",
      "        Template(title=Modern Home Page, \n",
      "        description=A modern and sleek home page template for any type of business.)\n",
      "        page_types=['Home page', 'Landing page']\n",
      "        style_categories=['Minimalist', 'Professional']\n",
      "        industry_categories=['Electronics', 'Home & decor']\n",
      "        >, <\n",
      "        Template(title=Modern Home Page, \n",
      "        description=A modern and sleek home page template for any type of business.)\n",
      "        page_types=['Home page', 'Landing page']\n",
      "        style_categories=['Minimalist', 'Professional']\n",
      "        industry_categories=['Electronics', 'Home & decor']\n",
      "        >, <\n",
      "        Template(title=Modern Home Page, \n",
      "        description=A modern and sleek home page template for any type of business.)\n",
      "        page_types=['Home page', 'Landing page']\n",
      "        style_categories=['Minimalist', 'Professional']\n",
      "        industry_categories=['Electronics', 'Home & decor']\n",
      "        >, <\n",
      "        Template(title=A Landing Page, \n",
      "        description=A landing page template for any type of business.)\n",
      "        page_types=['Landing page']\n",
      "        style_categories=['Elegant']\n",
      "        industry_categories=['music & videos', 'Clothing']\n",
      "        >]\n"
     ]
    }
   ],
   "execution_count": 11
  },
  {
   "metadata": {},
   "cell_type": "code",
   "outputs": [],
   "execution_count": null,
   "source": "",
   "id": "bf66129cdf3e71c2"
  }
 ],
 "metadata": {
  "kernelspec": {
   "display_name": "Python 3",
   "language": "python",
   "name": "python3"
  },
  "language_info": {
   "codemirror_mode": {
    "name": "ipython",
    "version": 2
   },
   "file_extension": ".py",
   "mimetype": "text/x-python",
   "name": "python",
   "nbconvert_exporter": "python",
   "pygments_lexer": "ipython2",
   "version": "2.7.6"
  }
 },
 "nbformat": 4,
 "nbformat_minor": 5
}
