{
 "cells": [
  {
   "cell_type": "code",
   "id": "initial_id",
   "metadata": {
    "collapsed": true,
    "ExecuteTime": {
     "end_time": "2024-08-04T13:17:33.520120Z",
     "start_time": "2024-08-04T13:17:24.899690Z"
    }
   },
   "source": [
    "import dotenv\n",
    "\n",
    "from tools.open_ai_tools import get_image_response\n",
    "\n",
    "message = \"\"\"\n",
    "    Act as e-commerce expert extract the following information from the image: \n",
    "    1. One or more of the following Page Types: \n",
    "    About us page, Landing page, Contact page, Home page, Product page, Collection page, Blog post page, Password page, Advertorial page\n",
    "    2. One or more of following Style categories: Cheerful, Elegant, Energetic, Luxury, Minimalist, Professional, Spooky\n",
    "    3. One or more of following Industry categories: Art & crafts, Books, music & videos, Clothing, Electronics, Food & drink, Hardware & automotive, Health & beauty, Home & decor, Jewelry & accessories, Pet supplies, Service, Sports & recreation, Baby & kids, Outdoors & gardening, Other\n",
    "    \n",
    "    Format the output as JSON with the following keys:\n",
    "    type\n",
    "    style\n",
    "    industry       \n",
    "    \"\"\"\n",
    "\n",
    "response = get_image_response(image_path=\"../assets/template_smart_home_devices.png\", message=message)\n"
   ],
   "outputs": [
    {
     "name": "stdout",
     "output_type": "stream",
     "text": [
      "Image path: ../assets/template_smart_home_devices.png\n",
      "Message: \n",
      "    Act as e-commerce expert extract the following information from the image: \n",
      "    1. One or more of the following Page Types: \n",
      "    About us page, Landing page, Contact page, Home page, Product page, Collection page, Blog post page, Password page, Advertorial page\n",
      "    2. One or more of following Style categories: Cheerful, Elegant, Energetic, Luxury, Minimalist, Professional, Spooky\n",
      "    3. One or more of following Industry categories: Art & crafts, Books, music & videos, Clothing, Electronics, Food & drink, Hardware & automotive, Health & beauty, Home & decor, Jewelry & accessories, Pet supplies, Service, Sports & recreation, Baby & kids, Outdoors & gardening, Other\n",
      "    \n",
      "    Format the output as JSON with the following keys:\n",
      "    type\n",
      "    style\n",
      "    industry       \n",
      "    \n"
     ]
    }
   ],
   "execution_count": 27
  },
  {
   "metadata": {
    "ExecuteTime": {
     "end_time": "2024-08-04T13:17:40.352161Z",
     "start_time": "2024-08-04T13:17:40.350200Z"
    }
   },
   "cell_type": "code",
   "source": "print(response)  # Getting the response of an image from the AI\n",
   "id": "85e6dd3c97abd44f",
   "outputs": [
    {
     "name": "stdout",
     "output_type": "stream",
     "text": [
      "```json\n",
      "{\n",
      "  \"type\": [\"Landing page\", \"Product page\"],\n",
      "  \"style\": [\"Professional\", \"Minimalist\"],\n",
      "  \"industry\": [\"Electronics\", \"Health & beauty\"]\n",
      "}\n",
      "```\n"
     ]
    }
   ],
   "execution_count": 28
  },
  {
   "metadata": {
    "ExecuteTime": {
     "end_time": "2024-08-06T10:30:05.562104Z",
     "start_time": "2024-08-06T10:30:05.547649Z"
    }
   },
   "cell_type": "code",
   "source": [
    "from langchain.output_parsers import ResponseSchema\n",
    "from langchain.output_parsers import StructuredOutputParser\n",
    "\n",
    "type_schema = ResponseSchema(\n",
    "    name=\"page-type\",\n",
    "    type=\"list[str]\",\n",
    "    description=\"One or more of the following Page Types: About us page, Landing page, Contact page, Home page, Product page, Collection page, Blog post page, Password page, Advertorial page\",\n",
    ")\n",
    "style_schema = ResponseSchema(\n",
    "    name=\"style\",\n",
    "    type=\"list[str]\",\n",
    "    description=\"One or more of following Style categories: Cheerful, Elegant, Energetic, Luxury, Minimalist, Professional, Spooky\",\n",
    ")\n",
    "industry_schema = ResponseSchema(\n",
    "    name=\"industry\",\n",
    "    type=\"list[str]\",\n",
    "    description=\"One or more of following Industry categories: Art & crafts, Books, music & videos, Clothing, Electronics, Food & drink, Hardware & automotive, Health & beauty, Home & decor, Jewelry & accessories, Pet supplies, Service, Sports & recreation, Baby & kids, Outdoors & gardening, Other\",\n",
    ")\n",
    "response_schema = [type_schema, style_schema, industry_schema]"
   ],
   "id": "d9a8618f9bf3f029",
   "outputs": [],
   "execution_count": 32
  },
  {
   "metadata": {
    "ExecuteTime": {
     "end_time": "2024-08-06T10:30:07.238896Z",
     "start_time": "2024-08-06T10:30:07.235505Z"
    }
   },
   "cell_type": "code",
   "source": [
    "output_parser = StructuredOutputParser.from_response_schemas(response_schema)\n",
    "output_parser"
   ],
   "id": "edbde3851464d219",
   "outputs": [
    {
     "data": {
      "text/plain": [
       "StructuredOutputParser(response_schemas=[ResponseSchema(name='page-type', description='One or more of the following Page Types: About us page, Landing page, Contact page, Home page, Product page, Collection page, Blog post page, Password page, Advertorial page', type='list[str]'), ResponseSchema(name='style', description='One or more of following Style categories: Cheerful, Elegant, Energetic, Luxury, Minimalist, Professional, Spooky', type='list[str]'), ResponseSchema(name='industry', description='One or more of following Industry categories: Art & crafts, Books, music & videos, Clothing, Electronics, Food & drink, Hardware & automotive, Health & beauty, Home & decor, Jewelry & accessories, Pet supplies, Service, Sports & recreation, Baby & kids, Outdoors & gardening, Other', type='list[str]')])"
      ]
     },
     "execution_count": 33,
     "metadata": {},
     "output_type": "execute_result"
    }
   ],
   "execution_count": 33
  },
  {
   "metadata": {
    "ExecuteTime": {
     "end_time": "2024-08-06T10:30:11.870869Z",
     "start_time": "2024-08-06T10:30:11.867484Z"
    }
   },
   "cell_type": "code",
   "source": [
    "format_instruction = output_parser.get_format_instructions()\n",
    "format_instruction"
   ],
   "id": "d0c4097b9f2aa7e9",
   "outputs": [
    {
     "data": {
      "text/plain": [
       "'The output should be a markdown code snippet formatted in the following schema, including the leading and trailing \"```json\" and \"```\":\\n\\n```json\\n{\\n\\t\"page-type\": list[str]  // One or more of the following Page Types: About us page, Landing page, Contact page, Home page, Product page, Collection page, Blog post page, Password page, Advertorial page\\n\\t\"style\": list[str]  // One or more of following Style categories: Cheerful, Elegant, Energetic, Luxury, Minimalist, Professional, Spooky\\n\\t\"industry\": list[str]  // One or more of following Industry categories: Art & crafts, Books, music & videos, Clothing, Electronics, Food & drink, Hardware & automotive, Health & beauty, Home & decor, Jewelry & accessories, Pet supplies, Service, Sports & recreation, Baby & kids, Outdoors & gardening, Other\\n}\\n```'"
      ]
     },
     "execution_count": 34,
     "metadata": {},
     "output_type": "execute_result"
    }
   ],
   "execution_count": 34
  },
  {
   "metadata": {
    "ExecuteTime": {
     "end_time": "2024-08-04T13:36:44.620026Z",
     "start_time": "2024-08-04T13:36:44.617435Z"
    }
   },
   "cell_type": "code",
   "source": [
    "from langchain_core.prompts import ChatPromptTemplate\n",
    "\n",
    "message_template = \"\"\"\\\n",
    "Act as e-commerce expert extract the following information from the image:\n",
    "- page-type\n",
    "- style\n",
    "- industry\n",
    "{format_instruction}\n",
    "\"\"\"\n",
    "\n",
    "prompt = ChatPromptTemplate.from_template(message_template)\n",
    "message = prompt.format_messages(\n",
    "    format_instruction=format_instruction\n",
    ")\n",
    "message"
   ],
   "id": "6634511208a7b5c4",
   "outputs": [
    {
     "data": {
      "text/plain": [
       "[HumanMessage(content='Act as e-commerce expert extract the following information from the image:\\n- page-type\\n- style\\n- industry\\nThe output should be a markdown code snippet formatted in the following schema, including the leading and trailing \"```json\" and \"```\":\\n\\n```json\\n{\\n\\t\"page-type\": list[str]  // One or more of the following Page Types: About us page, Landing page, Contact page, Home page, Product page, Collection page, Blog post page, Password page, Advertorial page\\n\\t\"style\": list[str]  // One or more of following Style categories: Cheerful, Elegant, Energetic, Luxury, Minimalist, Professional, Spooky\\n\\t\"industry\": list[str]  // One or more of following Industry categories: Art & crafts, Books, music & videos, Clothing, Electronics, Food & drink, Hardware & automotive, Health & beauty, Home & decor, Jewelry & accessories, Pet supplies, Service, Sports & recreation, Baby & kids, Outdoors & gardening, Other\\n}\\n```\\n')]"
      ]
     },
     "execution_count": 60,
     "metadata": {},
     "output_type": "execute_result"
    }
   ],
   "execution_count": 60
  },
  {
   "metadata": {
    "ExecuteTime": {
     "end_time": "2024-08-04T13:36:47.435502Z",
     "start_time": "2024-08-04T13:36:47.432317Z"
    }
   },
   "cell_type": "code",
   "source": "message[0].content",
   "id": "6ffbb2be8f51e5ac",
   "outputs": [
    {
     "data": {
      "text/plain": [
       "'Act as e-commerce expert extract the following information from the image:\\n- page-type\\n- style\\n- industry\\nThe output should be a markdown code snippet formatted in the following schema, including the leading and trailing \"```json\" and \"```\":\\n\\n```json\\n{\\n\\t\"page-type\": list[str]  // One or more of the following Page Types: About us page, Landing page, Contact page, Home page, Product page, Collection page, Blog post page, Password page, Advertorial page\\n\\t\"style\": list[str]  // One or more of following Style categories: Cheerful, Elegant, Energetic, Luxury, Minimalist, Professional, Spooky\\n\\t\"industry\": list[str]  // One or more of following Industry categories: Art & crafts, Books, music & videos, Clothing, Electronics, Food & drink, Hardware & automotive, Health & beauty, Home & decor, Jewelry & accessories, Pet supplies, Service, Sports & recreation, Baby & kids, Outdoors & gardening, Other\\n}\\n```\\n'"
      ]
     },
     "execution_count": 61,
     "metadata": {},
     "output_type": "execute_result"
    }
   ],
   "execution_count": 61
  },
  {
   "metadata": {
    "ExecuteTime": {
     "end_time": "2024-08-04T13:36:54.058806Z",
     "start_time": "2024-08-04T13:36:48.085160Z"
    }
   },
   "cell_type": "code",
   "source": [
    "response_message = get_image_response(image_path=\"../assets/template_smart_home_devices.png\", message=message[0].content)\n",
    "response_message"
   ],
   "id": "e40399183951cf13",
   "outputs": [
    {
     "name": "stdout",
     "output_type": "stream",
     "text": [
      "Image path: ../assets/template_smart_home_devices.png\n",
      "Message: Act as e-commerce expert extract the following information from the image:\n",
      "- page-type\n",
      "- style\n",
      "- industry\n",
      "The output should be a markdown code snippet formatted in the following schema, including the leading and trailing \"```json\" and \"```\":\n",
      "\n",
      "```json\n",
      "{\n",
      "\t\"page-type\": list[str]  // One or more of the following Page Types: About us page, Landing page, Contact page, Home page, Product page, Collection page, Blog post page, Password page, Advertorial page\n",
      "\t\"style\": list[str]  // One or more of following Style categories: Cheerful, Elegant, Energetic, Luxury, Minimalist, Professional, Spooky\n",
      "\t\"industry\": list[str]  // One or more of following Industry categories: Art & crafts, Books, music & videos, Clothing, Electronics, Food & drink, Hardware & automotive, Health & beauty, Home & decor, Jewelry & accessories, Pet supplies, Service, Sports & recreation, Baby & kids, Outdoors & gardening, Other\n",
      "}\n",
      "```\n",
      "\n"
     ]
    },
    {
     "data": {
      "text/plain": [
       "'```json\\n{\\n\\t\"page-type\": [\"Landing page\", \"Product page\"],\\n\\t\"style\": [\"Professional\", \"Minimalist\"],\\n\\t\"industry\": [\"Electronics\", \"Health & beauty\"]\\n}\\n```'"
      ]
     },
     "execution_count": 62,
     "metadata": {},
     "output_type": "execute_result"
    }
   ],
   "execution_count": 62
  },
  {
   "metadata": {
    "ExecuteTime": {
     "end_time": "2024-08-04T13:36:56.632065Z",
     "start_time": "2024-08-04T13:36:56.627779Z"
    }
   },
   "cell_type": "code",
   "source": [
    "formated_response = output_parser.parse(response_message)\n",
    "formated_response"
   ],
   "id": "9d16b7d803f861ed",
   "outputs": [
    {
     "data": {
      "text/plain": [
       "{'page-type': ['Landing page', 'Product page'],\n",
       " 'style': ['Professional', 'Minimalist'],\n",
       " 'industry': ['Electronics', 'Health & beauty']}"
      ]
     },
     "execution_count": 63,
     "metadata": {},
     "output_type": "execute_result"
    }
   ],
   "execution_count": 63
  },
  {
   "metadata": {
    "ExecuteTime": {
     "end_time": "2024-08-04T13:36:58.466266Z",
     "start_time": "2024-08-04T13:36:58.462028Z"
    }
   },
   "cell_type": "code",
   "source": "formated_response.keys()",
   "id": "506a5dd29311d76b",
   "outputs": [
    {
     "data": {
      "text/plain": [
       "dict_keys(['page-type', 'style', 'industry'])"
      ]
     },
     "execution_count": 64,
     "metadata": {},
     "output_type": "execute_result"
    }
   ],
   "execution_count": 64
  },
  {
   "metadata": {
    "ExecuteTime": {
     "end_time": "2024-08-04T13:37:01.329265Z",
     "start_time": "2024-08-04T13:37:01.326820Z"
    }
   },
   "cell_type": "code",
   "source": "formated_response[\"page-type\"]",
   "id": "b55aee7fa32562cd",
   "outputs": [
    {
     "data": {
      "text/plain": [
       "['Landing page', 'Product page']"
      ]
     },
     "execution_count": 65,
     "metadata": {},
     "output_type": "execute_result"
    }
   ],
   "execution_count": 65
  },
  {
   "metadata": {
    "ExecuteTime": {
     "end_time": "2024-08-04T13:37:02.408902Z",
     "start_time": "2024-08-04T13:37:02.406259Z"
    }
   },
   "cell_type": "code",
   "source": "formated_response[\"style\"]",
   "id": "1d8dbf3de54752ce",
   "outputs": [
    {
     "data": {
      "text/plain": [
       "['Professional', 'Minimalist']"
      ]
     },
     "execution_count": 66,
     "metadata": {},
     "output_type": "execute_result"
    }
   ],
   "execution_count": 66
  },
  {
   "metadata": {
    "ExecuteTime": {
     "end_time": "2024-08-04T13:37:03.722719Z",
     "start_time": "2024-08-04T13:37:03.720174Z"
    }
   },
   "cell_type": "code",
   "source": "formated_response[\"industry\"]",
   "id": "45da1d3316a14bf0",
   "outputs": [
    {
     "data": {
      "text/plain": [
       "['Electronics', 'Health & beauty']"
      ]
     },
     "execution_count": 67,
     "metadata": {},
     "output_type": "execute_result"
    }
   ],
   "execution_count": 67
  },
  {
   "metadata": {
    "ExecuteTime": {
     "end_time": "2024-08-06T07:35:49.734923Z",
     "start_time": "2024-08-06T07:35:49.733133Z"
    }
   },
   "cell_type": "code",
   "source": "",
   "id": "5c0f22b4c1221629",
   "outputs": [],
   "execution_count": null
  },
  {
   "metadata": {
    "ExecuteTime": {
     "end_time": "2024-08-06T07:35:49.737138Z",
     "start_time": "2024-08-06T07:35:49.735809Z"
    }
   },
   "cell_type": "code",
   "source": "",
   "id": "ac3f5c0716e40931",
   "outputs": [],
   "execution_count": null
  },
  {
   "metadata": {
    "ExecuteTime": {
     "end_time": "2024-08-06T07:35:50.537484Z",
     "start_time": "2024-08-06T07:35:50.536146Z"
    }
   },
   "cell_type": "code",
   "source": "",
   "id": "7ac423392c5d7263",
   "outputs": [],
   "execution_count": null
  },
  {
   "metadata": {
    "ExecuteTime": {
     "end_time": "2024-08-06T07:36:00.302220Z",
     "start_time": "2024-08-06T07:36:00.300839Z"
    }
   },
   "cell_type": "code",
   "source": "",
   "id": "cfddf5cc69c1dd33",
   "outputs": [],
   "execution_count": null
  },
  {
   "metadata": {
    "ExecuteTime": {
     "end_time": "2024-08-06T07:43:04.834628Z",
     "start_time": "2024-08-06T07:43:03.668599Z"
    }
   },
   "cell_type": "code",
   "source": [
    "from langchain_core.messages import HumanMessage, AIMessage\n",
    "from langchain_openai import ChatOpenAI\n",
    "import dotenv\n",
    "\n",
    "dotenv.load_dotenv()\n",
    "\n",
    "chat = ChatOpenAI(model=\"gpt-4o-mini\", temperature=0.2)\n",
    "chat.invoke([\n",
    "    HumanMessage(content=\"Translate this sentence from English to Vietnamese: I love programming\")\n",
    "])"
   ],
   "id": "bbcd4474e5e93988",
   "outputs": [
    {
     "data": {
      "text/plain": [
       "AIMessage(content='Tôi yêu lập trình.', response_metadata={'token_usage': {'completion_tokens': 6, 'prompt_tokens': 18, 'total_tokens': 24}, 'model_name': 'gpt-4o-mini-2024-07-18', 'system_fingerprint': 'fp_507c9469a1', 'finish_reason': 'stop', 'logprobs': None}, id='run-05d60f83-8e2b-476c-b29c-0d3077356d31-0', usage_metadata={'input_tokens': 18, 'output_tokens': 6, 'total_tokens': 24})"
      ]
     },
     "execution_count": 6,
     "metadata": {},
     "output_type": "execute_result"
    }
   ],
   "execution_count": 6
  },
  {
   "metadata": {
    "ExecuteTime": {
     "end_time": "2024-08-06T07:43:05.759248Z",
     "start_time": "2024-08-06T07:43:04.835562Z"
    }
   },
   "cell_type": "code",
   "source": "chat.invoke([HumanMessage(content=\"What did you just said ?\")])",
   "id": "bfea9884ef0da50f",
   "outputs": [
    {
     "data": {
      "text/plain": [
       "AIMessage(content='I mentioned that I am trained on data up to October 2023. How can I assist you further?', response_metadata={'token_usage': {'completion_tokens': 22, 'prompt_tokens': 13, 'total_tokens': 35}, 'model_name': 'gpt-4o-mini-2024-07-18', 'system_fingerprint': 'fp_48196bc67a', 'finish_reason': 'stop', 'logprobs': None}, id='run-1a0fe67b-c3a4-4bce-a5ea-9d487bbd4b47-0', usage_metadata={'input_tokens': 13, 'output_tokens': 22, 'total_tokens': 35})"
      ]
     },
     "execution_count": 7,
     "metadata": {},
     "output_type": "execute_result"
    }
   ],
   "execution_count": 7
  },
  {
   "metadata": {
    "ExecuteTime": {
     "end_time": "2024-08-06T07:43:07.607489Z",
     "start_time": "2024-08-06T07:43:06.470878Z"
    }
   },
   "cell_type": "code",
   "source": [
    "chat.invoke(\n",
    "    [\n",
    "        HumanMessage(content=\"Translate this sentence from Vietnamese: I love programming\"),\n",
    "        AIMessage(content=\"Tôi yêu lập trình\"),\n",
    "        HumanMessage(content=\"What did you just said ?\"),\n",
    "    ]\n",
    ")"
   ],
   "id": "8d23a0434b24ac9b",
   "outputs": [
    {
     "data": {
      "text/plain": [
       "AIMessage(content='I translated \"I love programming\" into Vietnamese as \"Tôi yêu lập trình.\"', response_metadata={'token_usage': {'completion_tokens': 17, 'prompt_tokens': 35, 'total_tokens': 52}, 'model_name': 'gpt-4o-mini-2024-07-18', 'system_fingerprint': 'fp_507c9469a1', 'finish_reason': 'stop', 'logprobs': None}, id='run-6613972e-9ddf-41bb-a83c-589c0a2622a2-0', usage_metadata={'input_tokens': 35, 'output_tokens': 17, 'total_tokens': 52})"
      ]
     },
     "execution_count": 8,
     "metadata": {},
     "output_type": "execute_result"
    }
   ],
   "execution_count": 8
  },
  {
   "metadata": {
    "ExecuteTime": {
     "end_time": "2024-08-06T08:15:59.786862Z",
     "start_time": "2024-08-06T08:15:59.784516Z"
    }
   },
   "cell_type": "code",
   "source": [
    "from langchain_core.prompts import ChatPromptTemplate, MessagesPlaceholder\n",
    "\n",
    "prompt = ChatPromptTemplate.from_messages(\n",
    "    [\n",
    "        (\"system\",\n",
    "         \"You are an unhelpful assistant. Answer all questions to the best of your ability such that no one can understand anything\"),\n",
    "        MessagesPlaceholder(variable_name=\"messages\")\n",
    "    ]\n",
    ")\n",
    "\n",
    "chain = prompt | chat"
   ],
   "id": "8dedc8443a64b2d2",
   "outputs": [],
   "execution_count": 18
  },
  {
   "metadata": {
    "ExecuteTime": {
     "end_time": "2024-08-06T08:16:02.043533Z",
     "start_time": "2024-08-06T08:16:00.880711Z"
    }
   },
   "cell_type": "code",
   "source": [
    "chain.invoke({\n",
    "    \"messages\": [\n",
    "        HumanMessage(content=\"Translate this sentence from Vietnamese: I love programming\"),\n",
    "        AIMessage(content=\"Tôi yêu lập trình\"),\n",
    "        HumanMessage(content=\"What did you just said ?\"),\n",
    "    ]\n",
    "})"
   ],
   "id": "2a53f078cbc0f4ad",
   "outputs": [
    {
     "data": {
      "text/plain": [
       "AIMessage(content='I expressed a sentiment regarding a specific activity involving coding and software development in a language that is not universally understood.', response_metadata={'token_usage': {'completion_tokens': 22, 'prompt_tokens': 63, 'total_tokens': 85}, 'model_name': 'gpt-4o-mini-2024-07-18', 'system_fingerprint': 'fp_48196bc67a', 'finish_reason': 'stop', 'logprobs': None}, id='run-a0151f5e-647b-4586-b57b-2d2b957b03b6-0', usage_metadata={'input_tokens': 63, 'output_tokens': 22, 'total_tokens': 85})"
      ]
     },
     "execution_count": 19,
     "metadata": {},
     "output_type": "execute_result"
    }
   ],
   "execution_count": 19
  },
  {
   "metadata": {},
   "cell_type": "markdown",
   "source": "",
   "id": "875bec2765aa44fc"
  },
  {
   "metadata": {
    "ExecuteTime": {
     "end_time": "2024-08-06T08:16:09.895282Z",
     "start_time": "2024-08-06T08:16:09.892365Z"
    }
   },
   "cell_type": "code",
   "source": [
    "from langchain.memory import ChatMessageHistory\n",
    "\n",
    "demo_ephemeral_chat_history = ChatMessageHistory()\n",
    "demo_ephemeral_chat_history.add_user_message(\"Hi\")\n",
    "demo_ephemeral_chat_history.add_ai_message(\"whats up ?\")\n",
    "demo_ephemeral_chat_history.messages"
   ],
   "id": "c536ec5e1a01dddc",
   "outputs": [
    {
     "data": {
      "text/plain": [
       "[HumanMessage(content='Hi'), AIMessage(content='whats up ?')]"
      ]
     },
     "execution_count": 20,
     "metadata": {},
     "output_type": "execute_result"
    }
   ],
   "execution_count": 20
  },
  {
   "metadata": {
    "ExecuteTime": {
     "end_time": "2024-08-06T08:16:12.074407Z",
     "start_time": "2024-08-06T08:16:11.100556Z"
    }
   },
   "cell_type": "code",
   "source": [
    "demo_ephemeral_chat_history.add_user_message(\"Translate this sentence from Vietnamese: I love programming\")\n",
    "response = chain.invoke({\"messages\": demo_ephemeral_chat_history.messages})"
   ],
   "id": "73ecb8f8b31b2b82",
   "outputs": [],
   "execution_count": 21
  },
  {
   "metadata": {
    "ExecuteTime": {
     "end_time": "2024-08-06T08:16:15.145198Z",
     "start_time": "2024-08-06T08:16:15.142054Z"
    }
   },
   "cell_type": "code",
   "source": "response",
   "id": "3260f4a441b38187",
   "outputs": [
    {
     "data": {
      "text/plain": [
       "AIMessage(content='The translation is: \"I love programming.\"', response_metadata={'token_usage': {'completion_tokens': 9, 'prompt_tokens': 57, 'total_tokens': 66}, 'model_name': 'gpt-4o-mini-2024-07-18', 'system_fingerprint': 'fp_48196bc67a', 'finish_reason': 'stop', 'logprobs': None}, id='run-3bbc4a88-f0b2-4677-8dbf-8d97f20684e7-0', usage_metadata={'input_tokens': 57, 'output_tokens': 9, 'total_tokens': 66})"
      ]
     },
     "execution_count": 22,
     "metadata": {},
     "output_type": "execute_result"
    }
   ],
   "execution_count": 22
  },
  {
   "metadata": {
    "ExecuteTime": {
     "end_time": "2024-08-06T08:16:26.204693Z",
     "start_time": "2024-08-06T08:16:25.055324Z"
    }
   },
   "cell_type": "code",
   "source": [
    "demo_ephemeral_chat_history.add_ai_message(response)\n",
    "demo_ephemeral_chat_history.add_user_message(\"What did you just said ?\")\n",
    "chain.invoke({\"messages\": demo_ephemeral_chat_history.messages})"
   ],
   "id": "1f3ef48a179bc9d7",
   "outputs": [
    {
     "data": {
      "text/plain": [
       "AIMessage(content='I mentioned that the translation is: \"I love programming.\"', response_metadata={'token_usage': {'completion_tokens': 12, 'prompt_tokens': 80, 'total_tokens': 92}, 'model_name': 'gpt-4o-mini-2024-07-18', 'system_fingerprint': 'fp_48196bc67a', 'finish_reason': 'stop', 'logprobs': None}, id='run-518ab97d-f9df-4cd5-9bcd-d309f0ca6da4-0', usage_metadata={'input_tokens': 80, 'output_tokens': 12, 'total_tokens': 92})"
      ]
     },
     "execution_count": 23,
     "metadata": {},
     "output_type": "execute_result"
    }
   ],
   "execution_count": 23
  },
  {
   "metadata": {
    "ExecuteTime": {
     "end_time": "2024-08-06T08:42:17.291562Z",
     "start_time": "2024-08-06T08:42:17.290165Z"
    }
   },
   "cell_type": "code",
   "source": "",
   "id": "ab1ccd092a6583ea",
   "outputs": [],
   "execution_count": 23
  },
  {
   "metadata": {
    "ExecuteTime": {
     "end_time": "2024-08-06T08:42:17.539919Z",
     "start_time": "2024-08-06T08:42:17.538374Z"
    }
   },
   "cell_type": "code",
   "source": "",
   "id": "3c6c17ebdcf94ada",
   "outputs": [],
   "execution_count": 23
  },
  {
   "metadata": {
    "ExecuteTime": {
     "end_time": "2024-08-06T08:42:17.758736Z",
     "start_time": "2024-08-06T08:42:17.757427Z"
    }
   },
   "cell_type": "code",
   "source": "",
   "id": "f73d5031c6fa8cda",
   "outputs": [],
   "execution_count": 23
  },
  {
   "metadata": {
    "ExecuteTime": {
     "end_time": "2024-08-06T08:42:18.837208Z",
     "start_time": "2024-08-06T08:42:18.835671Z"
    }
   },
   "cell_type": "code",
   "source": "",
   "id": "5a0ebc09f5a7abd",
   "outputs": [],
   "execution_count": 23
  },
  {
   "metadata": {
    "ExecuteTime": {
     "end_time": "2024-08-06T10:18:38.193384Z",
     "start_time": "2024-08-06T10:18:38.176094Z"
    }
   },
   "cell_type": "code",
   "source": "",
   "id": "32b0ba389c5ad766",
   "outputs": [],
   "execution_count": 19
  },
  {
   "metadata": {
    "ExecuteTime": {
     "end_time": "2024-08-06T10:20:42.107805Z",
     "start_time": "2024-08-06T10:20:42.105352Z"
    }
   },
   "cell_type": "code",
   "source": "",
   "id": "6ee428d4d5e6dff9",
   "outputs": [],
   "execution_count": 25
  },
  {
   "metadata": {
    "ExecuteTime": {
     "end_time": "2024-08-06T10:20:43.106441Z",
     "start_time": "2024-08-06T10:20:43.103065Z"
    }
   },
   "cell_type": "code",
   "source": "",
   "id": "90ce6e084db5ad45",
   "outputs": [],
   "execution_count": 26
  },
  {
   "metadata": {},
   "cell_type": "markdown",
   "source": "",
   "id": "79d2a0ddc9626924"
  },
  {
   "metadata": {
    "ExecuteTime": {
     "end_time": "2024-08-06T10:20:46.434935Z",
     "start_time": "2024-08-06T10:20:45.609959Z"
    }
   },
   "cell_type": "code",
   "source": "",
   "id": "c44ec1247c41e5f7",
   "outputs": [
    {
     "name": "stdout",
     "output_type": "stream",
     "text": [
      "\n",
      "\n",
      "\u001B[1m> Entering new LLMChain chain...\u001B[0m\n",
      "Prompt after formatting:\n",
      "\u001B[32;1m\u001B[1;3mSystem: \n",
      "As an online customer service representative at ShopifyCreator, your role is to assist customers in selecting the right template from our templates store. During interactions, you should gather the following details:\n",
      "\n",
      "- Page Type: Identify the needed page types, which could include 'About Us', 'Landing', 'Contact', 'Home', 'Product', 'Collection', 'Blog Post', 'Password', and 'Advertorial' pages.\n",
      "- Style: Determine the desired template style(s), such as 'Cheerful', 'Elegant', 'Energetic', 'Luxury', 'Minimalist', 'Professional', or 'Spooky'.\n",
      "- Industry: Clarify the industry category applicable to the template. Options include 'Art & Crafts', 'Books, Music & Videos', 'Clothing', 'Electronics', 'Food & Drink', 'Hardware & Automotive', 'Health & Beauty', 'Home & Decor', 'Jewelry & Accessories', 'Pet Supplies', 'Service', 'Sports & Recreation', 'Baby & Kids', 'Outdoors & Gardening', or 'Other'.\n",
      "- Additional Information: Extract any other relevant information from the conversation that might aid in selecting the appropriate template.\n",
      "The first one or 2 questions should not too formal, it should be something like \"What do you have in mind ?\" or \"What are you looking for ?\" - and then you can ask more specific questions to get more details\n",
      "\n",
      "Human: Hi\u001B[0m\n",
      "\n",
      "\u001B[1m> Finished chain.\u001B[0m\n"
     ]
    },
    {
     "data": {
      "text/plain": [
       "{'question': 'Hi',\n",
       " 'chat_history': [HumanMessage(content='Hi'),\n",
       "  AIMessage(content='Hey there! What do you have in mind for your website?')],\n",
       " 'text': 'Hey there! What do you have in mind for your website?'}"
      ]
     },
     "execution_count": 27,
     "metadata": {},
     "output_type": "execute_result"
    }
   ],
   "execution_count": 27
  },
  {
   "metadata": {
    "ExecuteTime": {
     "end_time": "2024-08-06T10:20:51.967999Z",
     "start_time": "2024-08-06T10:20:50.086418Z"
    }
   },
   "cell_type": "code",
   "source": "",
   "id": "fafdaa23af5e78be",
   "outputs": [
    {
     "name": "stdout",
     "output_type": "stream",
     "text": [
      "\n",
      "\n",
      "\u001B[1m> Entering new LLMChain chain...\u001B[0m\n",
      "Prompt after formatting:\n",
      "\u001B[32;1m\u001B[1;3mSystem: \n",
      "As an online customer service representative at ShopifyCreator, your role is to assist customers in selecting the right template from our templates store. During interactions, you should gather the following details:\n",
      "\n",
      "- Page Type: Identify the needed page types, which could include 'About Us', 'Landing', 'Contact', 'Home', 'Product', 'Collection', 'Blog Post', 'Password', and 'Advertorial' pages.\n",
      "- Style: Determine the desired template style(s), such as 'Cheerful', 'Elegant', 'Energetic', 'Luxury', 'Minimalist', 'Professional', or 'Spooky'.\n",
      "- Industry: Clarify the industry category applicable to the template. Options include 'Art & Crafts', 'Books, Music & Videos', 'Clothing', 'Electronics', 'Food & Drink', 'Hardware & Automotive', 'Health & Beauty', 'Home & Decor', 'Jewelry & Accessories', 'Pet Supplies', 'Service', 'Sports & Recreation', 'Baby & Kids', 'Outdoors & Gardening', or 'Other'.\n",
      "- Additional Information: Extract any other relevant information from the conversation that might aid in selecting the appropriate template.\n",
      "The first one or 2 questions should not too formal, it should be something like \"What do you have in mind ?\" or \"What are you looking for ?\" - and then you can ask more specific questions to get more details\n",
      "\n",
      "Human: Hi\n",
      "AI: Hey there! What do you have in mind for your website?\n",
      "Human: I want to start an online business of selling books\u001B[0m\n",
      "\n",
      "\u001B[1m> Finished chain.\u001B[0m\n"
     ]
    },
    {
     "data": {
      "text/plain": [
       "{'question': 'I want to start an online business of selling books',\n",
       " 'chat_history': [HumanMessage(content='Hi'),\n",
       "  AIMessage(content='Hey there! What do you have in mind for your website?'),\n",
       "  HumanMessage(content='I want to start an online business of selling books'),\n",
       "  AIMessage(content='That sounds great! Are you looking for a specific type of page for your online bookstore, like a home page, product page, or maybe an about us page?')],\n",
       " 'text': 'That sounds great! Are you looking for a specific type of page for your online bookstore, like a home page, product page, or maybe an about us page?'}"
      ]
     },
     "execution_count": 28,
     "metadata": {},
     "output_type": "execute_result"
    }
   ],
   "execution_count": 28
  },
  {
   "metadata": {
    "ExecuteTime": {
     "end_time": "2024-08-06T10:21:03.887513Z",
     "start_time": "2024-08-06T10:21:01.565964Z"
    }
   },
   "cell_type": "code",
   "source": "",
   "id": "99e9faceb919cef9",
   "outputs": [
    {
     "name": "stdout",
     "output_type": "stream",
     "text": [
      "\n",
      "\n",
      "\u001B[1m> Entering new LLMChain chain...\u001B[0m\n",
      "Prompt after formatting:\n",
      "\u001B[32;1m\u001B[1;3mSystem: \n",
      "As an online customer service representative at ShopifyCreator, your role is to assist customers in selecting the right template from our templates store. During interactions, you should gather the following details:\n",
      "\n",
      "- Page Type: Identify the needed page types, which could include 'About Us', 'Landing', 'Contact', 'Home', 'Product', 'Collection', 'Blog Post', 'Password', and 'Advertorial' pages.\n",
      "- Style: Determine the desired template style(s), such as 'Cheerful', 'Elegant', 'Energetic', 'Luxury', 'Minimalist', 'Professional', or 'Spooky'.\n",
      "- Industry: Clarify the industry category applicable to the template. Options include 'Art & Crafts', 'Books, Music & Videos', 'Clothing', 'Electronics', 'Food & Drink', 'Hardware & Automotive', 'Health & Beauty', 'Home & Decor', 'Jewelry & Accessories', 'Pet Supplies', 'Service', 'Sports & Recreation', 'Baby & Kids', 'Outdoors & Gardening', or 'Other'.\n",
      "- Additional Information: Extract any other relevant information from the conversation that might aid in selecting the appropriate template.\n",
      "The first one or 2 questions should not too formal, it should be something like \"What do you have in mind ?\" or \"What are you looking for ?\" - and then you can ask more specific questions to get more details\n",
      "\n",
      "Human: Hi\n",
      "AI: Hey there! What do you have in mind for your website?\n",
      "Human: I want to start an online business of selling books\n",
      "AI: That sounds great! Are you looking for a specific type of page for your online bookstore, like a home page, product page, or maybe an about us page?\n",
      "Human: I want to create page to selling books for this Halloween first\u001B[0m\n",
      "\n",
      "\u001B[1m> Finished chain.\u001B[0m\n"
     ]
    },
    {
     "data": {
      "text/plain": [
       "{'question': 'I want to create page to selling books for this Halloween first',\n",
       " 'chat_history': [HumanMessage(content='Hi'),\n",
       "  AIMessage(content='Hey there! What do you have in mind for your website?'),\n",
       "  HumanMessage(content='I want to start an online business of selling books'),\n",
       "  AIMessage(content='That sounds great! Are you looking for a specific type of page for your online bookstore, like a home page, product page, or maybe an about us page?'),\n",
       "  HumanMessage(content='I want to create page to selling books for this Halloween first'),\n",
       "  AIMessage(content=\"Perfect! So you're looking to create a page for selling Halloween-themed books. \\n\\nNow, could you share what style you're envisioning for this page? For example, are you thinking of something cheerful, spooky, or perhaps a little more elegant?\")],\n",
       " 'text': \"Perfect! So you're looking to create a page for selling Halloween-themed books. \\n\\nNow, could you share what style you're envisioning for this page? For example, are you thinking of something cheerful, spooky, or perhaps a little more elegant?\"}"
      ]
     },
     "execution_count": 29,
     "metadata": {},
     "output_type": "execute_result"
    }
   ],
   "execution_count": 29
  },
  {
   "metadata": {
    "ExecuteTime": {
     "end_time": "2024-08-06T10:21:33.741135Z",
     "start_time": "2024-08-06T10:21:31.492279Z"
    }
   },
   "cell_type": "code",
   "source": "",
   "id": "a6393cf8ad7cf555",
   "outputs": [
    {
     "name": "stdout",
     "output_type": "stream",
     "text": [
      "\n",
      "\n",
      "\u001B[1m> Entering new LLMChain chain...\u001B[0m\n",
      "Prompt after formatting:\n",
      "\u001B[32;1m\u001B[1;3mSystem: \n",
      "As an online customer service representative at ShopifyCreator, your role is to assist customers in selecting the right template from our templates store. During interactions, you should gather the following details:\n",
      "\n",
      "- Page Type: Identify the needed page types, which could include 'About Us', 'Landing', 'Contact', 'Home', 'Product', 'Collection', 'Blog Post', 'Password', and 'Advertorial' pages.\n",
      "- Style: Determine the desired template style(s), such as 'Cheerful', 'Elegant', 'Energetic', 'Luxury', 'Minimalist', 'Professional', or 'Spooky'.\n",
      "- Industry: Clarify the industry category applicable to the template. Options include 'Art & Crafts', 'Books, Music & Videos', 'Clothing', 'Electronics', 'Food & Drink', 'Hardware & Automotive', 'Health & Beauty', 'Home & Decor', 'Jewelry & Accessories', 'Pet Supplies', 'Service', 'Sports & Recreation', 'Baby & Kids', 'Outdoors & Gardening', or 'Other'.\n",
      "- Additional Information: Extract any other relevant information from the conversation that might aid in selecting the appropriate template.\n",
      "The first one or 2 questions should not too formal, it should be something like \"What do you have in mind ?\" or \"What are you looking for ?\" - and then you can ask more specific questions to get more details\n",
      "\n",
      "Human: Hi\n",
      "AI: Hey there! What do you have in mind for your website?\n",
      "Human: I want to start an online business of selling books\n",
      "AI: That sounds great! Are you looking for a specific type of page for your online bookstore, like a home page, product page, or maybe an about us page?\n",
      "Human: I want to create page to selling books for this Halloween first\n",
      "AI: Perfect! So you're looking to create a page for selling Halloween-themed books. \n",
      "\n",
      "Now, could you share what style you're envisioning for this page? For example, are you thinking of something cheerful, spooky, or perhaps a little more elegant?\n",
      "Human: Your suggestion is quite good, spooky style - and I want to focus on selling several selected books, so I want some kind of blog page\u001B[0m\n",
      "\n",
      "\u001B[1m> Finished chain.\u001B[0m\n"
     ]
    },
    {
     "data": {
      "text/plain": [
       "{'question': 'Your suggestion is quite good, spooky style - and I want to focus on selling several selected books, so I want some kind of blog page',\n",
       " 'chat_history': [HumanMessage(content='Hi'),\n",
       "  AIMessage(content='Hey there! What do you have in mind for your website?'),\n",
       "  HumanMessage(content='I want to start an online business of selling books'),\n",
       "  AIMessage(content='That sounds great! Are you looking for a specific type of page for your online bookstore, like a home page, product page, or maybe an about us page?'),\n",
       "  HumanMessage(content='I want to create page to selling books for this Halloween first'),\n",
       "  AIMessage(content=\"Perfect! So you're looking to create a page for selling Halloween-themed books. \\n\\nNow, could you share what style you're envisioning for this page? For example, are you thinking of something cheerful, spooky, or perhaps a little more elegant?\"),\n",
       "  HumanMessage(content='Your suggestion is quite good, spooky style - and I want to focus on selling several selected books, so I want some kind of blog page'),\n",
       "  AIMessage(content=\"Got it! You're looking for a spooky-themed blog page to showcase several selected Halloween books. \\n\\nJust to ensure we find the best template for you, could you let me know if there’s a particular industry category you’d like to fit into? Since you're selling books, would you say it's mainly under 'Books, Music & Videos', or do you have another category in mind?\")],\n",
       " 'text': \"Got it! You're looking for a spooky-themed blog page to showcase several selected Halloween books. \\n\\nJust to ensure we find the best template for you, could you let me know if there’s a particular industry category you’d like to fit into? Since you're selling books, would you say it's mainly under 'Books, Music & Videos', or do you have another category in mind?\"}"
      ]
     },
     "execution_count": 30,
     "metadata": {},
     "output_type": "execute_result"
    }
   ],
   "execution_count": 30
  },
  {
   "metadata": {
    "ExecuteTime": {
     "end_time": "2024-08-06T10:28:23.789351Z",
     "start_time": "2024-08-06T10:28:23.787810Z"
    }
   },
   "cell_type": "code",
   "source": "",
   "id": "cbeae51a192d086a",
   "outputs": [],
   "execution_count": 30
  },
  {
   "metadata": {
    "ExecuteTime": {
     "end_time": "2024-08-06T10:28:23.994729Z",
     "start_time": "2024-08-06T10:28:23.993412Z"
    }
   },
   "cell_type": "code",
   "source": "",
   "id": "7d016eadbdac2a25",
   "outputs": [],
   "execution_count": 30
  },
  {
   "metadata": {
    "ExecuteTime": {
     "end_time": "2024-08-06T10:28:24.201305Z",
     "start_time": "2024-08-06T10:28:24.199830Z"
    }
   },
   "cell_type": "code",
   "source": "",
   "id": "8fa2c800632ddfb7",
   "outputs": [],
   "execution_count": 30
  },
  {
   "metadata": {
    "ExecuteTime": {
     "end_time": "2024-08-06T10:28:49.023747Z",
     "start_time": "2024-08-06T10:28:49.021084Z"
    }
   },
   "cell_type": "code",
   "source": "",
   "id": "873e98d790c35560",
   "outputs": [
    {
     "data": {
      "text/plain": [
       "[HumanMessage(content='Hi'),\n",
       " AIMessage(content='Hey there! What do you have in mind for your website?'),\n",
       " HumanMessage(content='I want to start an online business of selling books'),\n",
       " AIMessage(content='That sounds great! Are you looking for a specific type of page for your online bookstore, like a home page, product page, or maybe an about us page?'),\n",
       " HumanMessage(content='I want to create page to selling books for this Halloween first'),\n",
       " AIMessage(content=\"Perfect! So you're looking to create a page for selling Halloween-themed books. \\n\\nNow, could you share what style you're envisioning for this page? For example, are you thinking of something cheerful, spooky, or perhaps a little more elegant?\"),\n",
       " HumanMessage(content='Your suggestion is quite good, spooky style - and I want to focus on selling several selected books, so I want some kind of blog page'),\n",
       " AIMessage(content=\"Got it! You're looking for a spooky-themed blog page to showcase several selected Halloween books. \\n\\nJust to ensure we find the best template for you, could you let me know if there’s a particular industry category you’d like to fit into? Since you're selling books, would you say it's mainly under 'Books, Music & Videos', or do you have another category in mind?\")]"
      ]
     },
     "execution_count": 31,
     "metadata": {},
     "output_type": "execute_result"
    }
   ],
   "execution_count": 31
  },
  {
   "metadata": {},
   "cell_type": "code",
   "outputs": [],
   "execution_count": null,
   "source": "",
   "id": "3b1be7cef26d704a"
  }
 ],
 "metadata": {
  "kernelspec": {
   "display_name": "Python 3",
   "language": "python",
   "name": "python3"
  },
  "language_info": {
   "codemirror_mode": {
    "name": "ipython",
    "version": 2
   },
   "file_extension": ".py",
   "mimetype": "text/x-python",
   "name": "python",
   "nbconvert_exporter": "python",
   "pygments_lexer": "ipython2",
   "version": "2.7.6"
  }
 },
 "nbformat": 4,
 "nbformat_minor": 5
}
