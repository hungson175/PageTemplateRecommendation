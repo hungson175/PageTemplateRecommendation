{
 "cells": [
  {
   "cell_type": "code",
   "id": "initial_id",
   "metadata": {
    "collapsed": true,
    "ExecuteTime": {
     "end_time": "2024-08-06T10:57:04.166164Z",
     "start_time": "2024-08-06T10:57:03.753335Z"
    }
   },
   "source": [
    "import os\n",
    "\n",
    "from langchain.chains.llm import LLMChain\n",
    "from langchain.chains.sequential import SequentialChain\n",
    "from langchain_core.prompts import PromptTemplate\n",
    "from langchain_openai.llms import OpenAI\n",
    "from dotenv import load_dotenv\n",
    "load_dotenv(\"../.env\")\n",
    "llm = OpenAI(\n",
    "    openai_api_key=os.getenv(\"OPENAI_API_KEY\"),\n",
    ")"
   ],
   "outputs": [],
   "execution_count": 1
  },
  {
   "metadata": {
    "ExecuteTime": {
     "end_time": "2024-08-06T10:57:08.020340Z",
     "start_time": "2024-08-06T10:57:04.878473Z"
    }
   },
   "cell_type": "code",
   "source": [
    "resp = llm(\"Hello there ! Write a poem\")\n",
    "resp"
   ],
   "id": "1a0dce6229daee2",
   "outputs": [
    {
     "name": "stderr",
     "output_type": "stream",
     "text": [
      "/Users/sonph36/dev/PageTemplateRecommendation/venv/lib/python3.12/site-packages/langchain_core/_api/deprecation.py:139: LangChainDeprecationWarning: The method `BaseLLM.__call__` was deprecated in langchain-core 0.1.7 and will be removed in 0.3.0. Use invoke instead.\n",
      "  warn_deprecated(\n"
     ]
    },
    {
     "data": {
      "text/plain": [
       "\" to your pet\\n\\nMy dear furry friend, with eyes so bright\\nYou fill my days with endless delight\\nYour wagging tail, a constant source of glee\\nBringing joy to my heart, for all to see\\n\\nYou cuddle close, with a warm embrace\\nA loyal companion, in every place\\nYou listen to my every word\\nWith understanding, never blurred\\n\\nYour playful antics, bring me laughter\\nIn your presence, nothing else matters\\nYou chase your tail, with boundless glee\\nSuch innocence, for all to see\\n\\nYour love is pure, and neverending\\nA bond between us, unbreakable and unending\\nYou are my confidant, my best friend\\nWith you by my side, I'll never bend\\n\\nThrough thick and thin, you remain by my side\\nWith you, I have nothing to hide\\nYou are my pet, my faithful mate\\nI'll love you forever, my dear, sweet soulmate.\""
      ]
     },
     "execution_count": 2,
     "metadata": {},
     "output_type": "execute_result"
    }
   ],
   "execution_count": 2
  },
  {
   "metadata": {
    "ExecuteTime": {
     "end_time": "2024-08-05T14:01:45.229009Z",
     "start_time": "2024-08-05T14:01:45.226830Z"
    }
   },
   "cell_type": "code",
   "source": [
    "prompt = PromptTemplate(\n",
    "    template=\"Write a very short {language} function that will {task}\",\n",
    "    input_variables = [\"language\", \"task\"]\n",
    ")\n",
    "\n",
    "code_chain = LLMChain(\n",
    "    llm = llm,\n",
    "    prompt = prompt,\n",
    "    output_key=\"code\"\n",
    ")"
   ],
   "id": "37555378fc69b23c",
   "outputs": [],
   "execution_count": 19
  },
  {
   "metadata": {
    "ExecuteTime": {
     "end_time": "2024-08-05T14:02:49.292Z",
     "start_time": "2024-08-05T14:02:49.289704Z"
    }
   },
   "cell_type": "code",
   "source": [
    "test_prompt = PromptTemplate(\n",
    "    input_variables=[\"language\", \"code\"],\n",
    "    template=\"Write a test for the following {language} code:\\n\\n```\\n{code}\\n```\\n\"\n",
    ")\n",
    "test_chain = LLMChain(\n",
    "    llm=llm,\n",
    "    prompt=test_prompt,\n",
    "    output_key=\"test\"\n",
    ")\n",
    "seq_chain = SequentialChain(\n",
    "    chains = [code_chain, test_chain],\n",
    "    input_variables = [\"language\", \"task\"],\n",
    "    output_variables =[\"test\",\"code\"],\n",
    ")"
   ],
   "id": "302e1596be89e7c0",
   "outputs": [],
   "execution_count": 21
  },
  {
   "metadata": {
    "ExecuteTime": {
     "end_time": "2024-08-05T14:03:54.282568Z",
     "start_time": "2024-08-05T14:03:51.934980Z"
    }
   },
   "cell_type": "code",
   "source": "result  = seq_chain( {\"language\": \"python\", \"task\":\"return a list of numbers from 0 to 10\"})",
   "id": "549915ae427d18bd",
   "outputs": [],
   "execution_count": 23
  },
  {
   "metadata": {
    "ExecuteTime": {
     "end_time": "2024-08-05T14:03:57.953824Z",
     "start_time": "2024-08-05T14:03:57.951377Z"
    }
   },
   "cell_type": "code",
   "source": "result",
   "id": "b03cbd14b6c6c947",
   "outputs": [
    {
     "data": {
      "text/plain": [
       "{'language': 'python',\n",
       " 'task': 'return a list of numbers from 0 to 10',\n",
       " 'test': \"\\nimport unittest\\nfrom code import get_numbers\\n\\nclass TestGetNumbers(unittest.TestCase):\\n\\n    def test_get_numbers(self):\\n        result = get_numbers()\\n        expected = [0, 1, 2, 3, 4, 5, 6, 7, 8, 9, 10]\\n        self.assertEqual(result, expected)\\n\\nif __name__ == '__main__':\\n    unittest.main()\",\n",
       " 'code': '\\n\\ndef get_numbers():\\n    return list(range(11))'}"
      ]
     },
     "execution_count": 24,
     "metadata": {},
     "output_type": "execute_result"
    }
   ],
   "execution_count": 24
  },
  {
   "metadata": {
    "ExecuteTime": {
     "end_time": "2024-08-05T14:04:45.890308Z",
     "start_time": "2024-08-05T14:04:45.888379Z"
    }
   },
   "cell_type": "code",
   "source": "print(result['code'])",
   "id": "68634b46977ada50",
   "outputs": [
    {
     "name": "stdout",
     "output_type": "stream",
     "text": [
      "\n",
      "\n",
      "def get_numbers():\n",
      "    return list(range(11))\n"
     ]
    }
   ],
   "execution_count": 26
  },
  {
   "metadata": {
    "ExecuteTime": {
     "end_time": "2024-08-05T14:04:55.314882Z",
     "start_time": "2024-08-05T14:04:55.313131Z"
    }
   },
   "cell_type": "code",
   "source": "print(result['test'])",
   "id": "a2c8f42b916c7a10",
   "outputs": [
    {
     "name": "stdout",
     "output_type": "stream",
     "text": [
      "\n",
      "import unittest\n",
      "from code import get_numbers\n",
      "\n",
      "class TestGetNumbers(unittest.TestCase):\n",
      "\n",
      "    def test_get_numbers(self):\n",
      "        result = get_numbers()\n",
      "        expected = [0, 1, 2, 3, 4, 5, 6, 7, 8, 9, 10]\n",
      "        self.assertEqual(result, expected)\n",
      "\n",
      "if __name__ == '__main__':\n",
      "    unittest.main()\n"
     ]
    }
   ],
   "execution_count": 27
  },
  {
   "metadata": {},
   "cell_type": "code",
   "outputs": [],
   "execution_count": null,
   "source": "",
   "id": "26a55849f6ab634"
  }
 ],
 "metadata": {
  "kernelspec": {
   "display_name": "Python 3",
   "language": "python",
   "name": "python3"
  },
  "language_info": {
   "codemirror_mode": {
    "name": "ipython",
    "version": 2
   },
   "file_extension": ".py",
   "mimetype": "text/x-python",
   "name": "python",
   "nbconvert_exporter": "python",
   "pygments_lexer": "ipython2",
   "version": "2.7.6"
  }
 },
 "nbformat": 4,
 "nbformat_minor": 5
}
